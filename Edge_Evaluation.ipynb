{
 "cells": [
  {
   "cell_type": "code",
   "execution_count": 1,
   "metadata": {
    "collapsed": true
   },
   "outputs": [],
   "source": [
    "import numpy as np\n",
    "import nibabel as nib\n",
    "import subprocess\n",
    "import tempfile\n",
    "from DataLoader.utils import load_netmats\n",
    "from FSLNets.nets_glm import nets_glm\n",
    "from DataLoader.MetadataHelper import *"
   ]
  },
  {
   "cell_type": "code",
   "execution_count": 2,
   "metadata": {
    "collapsed": false
   },
   "outputs": [],
   "source": [
    "des = \"/home/tadlington/designs/des_sex_confound_nomean.mat\"\n",
    "con = \"/home/tadlington/designs/des_sex_confound_mean.con\"\n",
    "netmats = load_netmats('/home/tadlington/bitbucket/HCP_500/HCP500_netmat2_460.txt')"
   ]
  },
  {
   "cell_type": "code",
   "execution_count": 3,
   "metadata": {
    "collapsed": false
   },
   "outputs": [
    {
     "ename": "ValueError",
     "evalue": "ERROR: Program failed\n\nAn exception has been thrown\nnumber of columns in t-contrast matrix doesn't match number of columns in design matrix!\n\nExiting\n",
     "traceback": [
      "\u001b[1;31m---------------------------------------------------------------------------\u001b[0m",
      "\u001b[1;31mValueError\u001b[0m                                Traceback (most recent call last)",
      "\u001b[1;32m<ipython-input-3-e63788982193>\u001b[0m in \u001b[0;36m<module>\u001b[1;34m()\u001b[0m\n\u001b[1;32m----> 1\u001b[1;33m \u001b[0mp_uncorrected\u001b[0m\u001b[1;33m,\u001b[0m \u001b[0mp_corrected\u001b[0m\u001b[1;33m,\u001b[0m \u001b[0mFDRThresh\u001b[0m \u001b[1;33m=\u001b[0m \u001b[0mnets_glm\u001b[0m\u001b[1;33m(\u001b[0m\u001b[0mnetmats\u001b[0m\u001b[1;33m,\u001b[0m \u001b[0mdes\u001b[0m\u001b[1;33m,\u001b[0m \u001b[0mcon\u001b[0m\u001b[1;33m)\u001b[0m\u001b[1;33m\u001b[0m\u001b[0m\n\u001b[0m",
      "\u001b[1;32m/home/tadlington/BrainConnectivity/PANEL/FSLNets/nets_glm.pyc\u001b[0m in \u001b[0;36mnets_glm\u001b[1;34m(netmats, design_matrix, contrast_matrix, view, nperms)\u001b[0m\n\u001b[0;32m     22\u001b[0m     \u001b[0mncontrast\u001b[0m\u001b[1;33m,\u001b[0m \u001b[0merr\u001b[0m \u001b[1;33m=\u001b[0m \u001b[0mrandomise\u001b[0m\u001b[1;33m.\u001b[0m\u001b[0mcommunicate\u001b[0m\u001b[1;33m(\u001b[0m\u001b[1;33m)\u001b[0m\u001b[1;33m\u001b[0m\u001b[0m\n\u001b[0;32m     23\u001b[0m     \u001b[1;32mif\u001b[0m \u001b[0merr\u001b[0m \u001b[1;32mis\u001b[0m \u001b[1;32mnot\u001b[0m \u001b[1;34m''\u001b[0m\u001b[1;33m:\u001b[0m\u001b[1;33m\u001b[0m\u001b[0m\n\u001b[1;32m---> 24\u001b[1;33m         \u001b[1;32mraise\u001b[0m \u001b[0mValueError\u001b[0m\u001b[1;33m(\u001b[0m\u001b[0merr\u001b[0m\u001b[1;33m)\u001b[0m\u001b[1;33m\u001b[0m\u001b[0m\n\u001b[0m\u001b[0;32m     25\u001b[0m     \u001b[0mncontrast\u001b[0m \u001b[1;33m=\u001b[0m \u001b[0mncontrast\u001b[0m\u001b[1;33m.\u001b[0m\u001b[0msplit\u001b[0m\u001b[1;33m(\u001b[0m\u001b[1;34m'\\n'\u001b[0m\u001b[1;33m)\u001b[0m\u001b[1;33m[\u001b[0m\u001b[1;33m-\u001b[0m\u001b[1;36m2\u001b[0m\u001b[1;33m]\u001b[0m\u001b[1;33m\u001b[0m\u001b[0m\n\u001b[0;32m     26\u001b[0m     \u001b[0mncontrast\u001b[0m \u001b[1;33m=\u001b[0m \u001b[0mint\u001b[0m\u001b[1;33m(\u001b[0m\u001b[0mncontrast\u001b[0m\u001b[1;33m)\u001b[0m\u001b[1;33m\u001b[0m\u001b[0m\n",
      "\u001b[1;31mValueError\u001b[0m: ERROR: Program failed\n\nAn exception has been thrown\nnumber of columns in t-contrast matrix doesn't match number of columns in design matrix!\n\nExiting\n"
     ],
     "output_type": "error"
    }
   ],
   "source": [
    "p_uncorrected, p_corrected, FDRThresh = nets_glm(netmats, des, con)"
   ]
  },
  {
   "cell_type": "code",
   "execution_count": 8,
   "metadata": {
    "collapsed": false
   },
   "outputs": [
    {
     "name": "stdout",
     "output_type": "stream",
     "text": [
      "[[ 0.          0.6128      0.85579997 ...,  0.0188      0.98559999  0.        ]]\n"
     ]
    }
   ],
   "source": [
    "print p_uncorrected"
   ]
  },
  {
   "cell_type": "code",
   "execution_count": 19,
   "metadata": {
    "collapsed": false
   },
   "outputs": [
    {
     "name": "stdout",
     "output_type": "stream",
     "text": [
      "(1, 10000)\n",
      "0\n",
      "puncorr\n",
      "(1, 10000)\n",
      "296\n"
     ]
    }
   ],
   "source": [
    "print p_corrected.shape\n",
    "print sum(sum(p_corrected > 0.975) > 0.975)\n",
    "print \"puncorr\"\n",
    "print p_uncorrected.shape\n",
    "print sum(sum(p_uncorrected > 0.975) > 0.975)"
   ]
  },
  {
   "cell_type": "code",
   "execution_count": 11,
   "metadata": {
    "collapsed": false
   },
   "outputs": [
    {
     "name": "stdout",
     "output_type": "stream",
     "text": [
      "70\n",
      "puncorr\n",
      "(1, 10000)\n",
      "1304\n"
     ]
    }
   ],
   "source": [
    "print sum(sum(p_corrected > 0.975))\n",
    "print \"puncorr\"\n",
    "print p_uncorrected.shape\n",
    "print sum(sum(p_uncorrected > 0.975))"
   ]
  },
  {
   "cell_type": "code",
   "execution_count": null,
   "metadata": {
    "collapsed": true
   },
   "outputs": [],
   "source": [
    ""
   ]
  }
 ],
 "metadata": {
  "kernelspec": {
   "display_name": "Python 2",
   "language": "python",
   "name": "python2"
  },
  "language_info": {
   "codemirror_mode": {
    "name": "ipython",
    "version": 2.0
   },
   "file_extension": ".py",
   "mimetype": "text/x-python",
   "name": "python",
   "nbconvert_exporter": "python",
   "pygments_lexer": "ipython2",
   "version": "2.7.11+"
  }
 },
 "nbformat": 4,
 "nbformat_minor": 0
}
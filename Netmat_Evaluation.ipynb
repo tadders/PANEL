{
 "cells": [
  {
   "cell_type": "code",
   "execution_count": 1,
   "metadata": {
    "collapsed": false
   },
   "outputs": [],
   "source": [
    "import Predictors.ElasticNetTuner as EN\n",
    "from Predictors.RandomForestTuner import RandomForestTuner\n",
    "import Predictors.NNTuner  as NN\n",
    "from DataLoader.MetadataHelper import *\n",
    "from DataLoader.utils import load_netmats\n",
    "from sklearn.preprocessing import LabelEncoder\n",
    "import numpy as np"
   ]
  },
  {
   "cell_type": "code",
   "execution_count": 2,
   "metadata": {
    "collapsed": false
   },
   "outputs": [
    {
     "ename": "IOError",
     "evalue": "File Data/joint_HCP_500_metadata.csv does not exist",
     "traceback": [
      "\u001b[1;31m---------------------------------------------------------------------------\u001b[0m",
      "\u001b[1;31mIOError\u001b[0m                                   Traceback (most recent call last)",
      "\u001b[1;32m<ipython-input-2-3c268bad4341>\u001b[0m in \u001b[0;36m<module>\u001b[1;34m()\u001b[0m\n\u001b[0;32m      1\u001b[0m \u001b[1;31m#Load netmats and meta data\u001b[0m\u001b[1;33m\u001b[0m\u001b[1;33m\u001b[0m\u001b[0m\n\u001b[1;32m----> 2\u001b[1;33m \u001b[0mmetadata\u001b[0m \u001b[1;33m=\u001b[0m \u001b[0mload_patient_metadata\u001b[0m\u001b[1;33m(\u001b[0m\u001b[1;34m'Data/joint_HCP_500_metadata.csv'\u001b[0m\u001b[1;33m,\u001b[0m \u001b[0msubject_measures\u001b[0m\u001b[1;33m=\u001b[0m\u001b[1;33m[\u001b[0m\u001b[1;34m\"Gender\"\u001b[0m\u001b[1;33m]\u001b[0m\u001b[1;33m)\u001b[0m\u001b[1;33m\u001b[0m\u001b[0m\n\u001b[0m\u001b[0;32m      3\u001b[0m \u001b[1;33m\u001b[0m\u001b[0m\n\u001b[0;32m      4\u001b[0m \u001b[1;33m\u001b[0m\u001b[0m\n\u001b[0;32m      5\u001b[0m \u001b[1;31m#metadata = metadata.as_matrix()\u001b[0m\u001b[1;33m\u001b[0m\u001b[1;33m\u001b[0m\u001b[0m\n",
      "\u001b[1;32m/home/tadlington/BrainConnectivity/PANEL/DataLoader/MetadataHelper.pyc\u001b[0m in \u001b[0;36mload_patient_metadata\u001b[1;34m(metadata_file, subject_measures, subjects)\u001b[0m\n\u001b[0;32m     16\u001b[0m     \u001b[1;33m:\u001b[0m\u001b[0mreturns\u001b[0m \u001b[0ma\u001b[0m \u001b[0mpanda\u001b[0m \u001b[0mdataframe\u001b[0m \u001b[0mcontaining\u001b[0m \u001b[0msubject\u001b[0m \u001b[0mmeasures\u001b[0m\u001b[1;33m\u001b[0m\u001b[0m\n\u001b[0;32m     17\u001b[0m     \"\"\"\n\u001b[1;32m---> 18\u001b[1;33m     \u001b[0mmetadata\u001b[0m \u001b[1;33m=\u001b[0m \u001b[0mpandas\u001b[0m\u001b[1;33m.\u001b[0m\u001b[0mread_csv\u001b[0m\u001b[1;33m(\u001b[0m\u001b[0mmetadata_file\u001b[0m\u001b[1;33m)\u001b[0m\u001b[1;33m\u001b[0m\u001b[0m\n\u001b[0m\u001b[0;32m     19\u001b[0m     \u001b[1;32mif\u001b[0m \u001b[0msubjects\u001b[0m \u001b[1;32mis\u001b[0m \u001b[1;32mnot\u001b[0m \u001b[0mNone\u001b[0m\u001b[1;33m:\u001b[0m\u001b[1;33m\u001b[0m\u001b[0m\n\u001b[0;32m     20\u001b[0m         \u001b[0mmetadata\u001b[0m \u001b[1;33m=\u001b[0m \u001b[0mget_subjects_data\u001b[0m\u001b[1;33m(\u001b[0m\u001b[0mmetadata\u001b[0m\u001b[1;33m,\u001b[0m \u001b[0msubjects\u001b[0m\u001b[1;33m)\u001b[0m\u001b[1;33m\u001b[0m\u001b[0m\n",
      "\u001b[1;32m/home/tadlington/nibenv/local/lib/python2.7/site-packages/pandas/io/parsers.pyc\u001b[0m in \u001b[0;36mparser_f\u001b[1;34m(filepath_or_buffer, sep, delimiter, header, names, index_col, usecols, squeeze, prefix, mangle_dupe_cols, dtype, engine, converters, true_values, false_values, skipinitialspace, skiprows, skipfooter, nrows, na_values, keep_default_na, na_filter, verbose, skip_blank_lines, parse_dates, infer_datetime_format, keep_date_col, date_parser, dayfirst, iterator, chunksize, compression, thousands, decimal, lineterminator, quotechar, quoting, escapechar, comment, encoding, dialect, tupleize_cols, error_bad_lines, warn_bad_lines, skip_footer, doublequote, delim_whitespace, as_recarray, compact_ints, use_unsigned, low_memory, buffer_lines, memory_map, float_precision)\u001b[0m\n\u001b[0;32m    560\u001b[0m                     skip_blank_lines=skip_blank_lines)\n\u001b[0;32m    561\u001b[0m \u001b[1;33m\u001b[0m\u001b[0m\n\u001b[1;32m--> 562\u001b[1;33m         \u001b[1;32mreturn\u001b[0m \u001b[0m_read\u001b[0m\u001b[1;33m(\u001b[0m\u001b[0mfilepath_or_buffer\u001b[0m\u001b[1;33m,\u001b[0m \u001b[0mkwds\u001b[0m\u001b[1;33m)\u001b[0m\u001b[1;33m\u001b[0m\u001b[0m\n\u001b[0m\u001b[0;32m    563\u001b[0m \u001b[1;33m\u001b[0m\u001b[0m\n\u001b[0;32m    564\u001b[0m     \u001b[0mparser_f\u001b[0m\u001b[1;33m.\u001b[0m\u001b[0m__name__\u001b[0m \u001b[1;33m=\u001b[0m \u001b[0mname\u001b[0m\u001b[1;33m\u001b[0m\u001b[0m\n",
      "\u001b[1;32m/home/tadlington/nibenv/local/lib/python2.7/site-packages/pandas/io/parsers.pyc\u001b[0m in \u001b[0;36m_read\u001b[1;34m(filepath_or_buffer, kwds)\u001b[0m\n\u001b[0;32m    313\u001b[0m \u001b[1;33m\u001b[0m\u001b[0m\n\u001b[0;32m    314\u001b[0m     \u001b[1;31m# Create the parser.\u001b[0m\u001b[1;33m\u001b[0m\u001b[1;33m\u001b[0m\u001b[0m\n\u001b[1;32m--> 315\u001b[1;33m     \u001b[0mparser\u001b[0m \u001b[1;33m=\u001b[0m \u001b[0mTextFileReader\u001b[0m\u001b[1;33m(\u001b[0m\u001b[0mfilepath_or_buffer\u001b[0m\u001b[1;33m,\u001b[0m \u001b[1;33m**\u001b[0m\u001b[0mkwds\u001b[0m\u001b[1;33m)\u001b[0m\u001b[1;33m\u001b[0m\u001b[0m\n\u001b[0m\u001b[0;32m    316\u001b[0m \u001b[1;33m\u001b[0m\u001b[0m\n\u001b[0;32m    317\u001b[0m     \u001b[1;32mif\u001b[0m \u001b[1;33m(\u001b[0m\u001b[0mnrows\u001b[0m \u001b[1;32mis\u001b[0m \u001b[1;32mnot\u001b[0m \u001b[0mNone\u001b[0m\u001b[1;33m)\u001b[0m \u001b[1;32mand\u001b[0m \u001b[1;33m(\u001b[0m\u001b[0mchunksize\u001b[0m \u001b[1;32mis\u001b[0m \u001b[1;32mnot\u001b[0m \u001b[0mNone\u001b[0m\u001b[1;33m)\u001b[0m\u001b[1;33m:\u001b[0m\u001b[1;33m\u001b[0m\u001b[0m\n",
      "\u001b[1;32m/home/tadlington/nibenv/local/lib/python2.7/site-packages/pandas/io/parsers.pyc\u001b[0m in \u001b[0;36m__init__\u001b[1;34m(self, f, engine, **kwds)\u001b[0m\n\u001b[0;32m    643\u001b[0m             \u001b[0mself\u001b[0m\u001b[1;33m.\u001b[0m\u001b[0moptions\u001b[0m\u001b[1;33m[\u001b[0m\u001b[1;34m'has_index_names'\u001b[0m\u001b[1;33m]\u001b[0m \u001b[1;33m=\u001b[0m \u001b[0mkwds\u001b[0m\u001b[1;33m[\u001b[0m\u001b[1;34m'has_index_names'\u001b[0m\u001b[1;33m]\u001b[0m\u001b[1;33m\u001b[0m\u001b[0m\n\u001b[0;32m    644\u001b[0m \u001b[1;33m\u001b[0m\u001b[0m\n\u001b[1;32m--> 645\u001b[1;33m         \u001b[0mself\u001b[0m\u001b[1;33m.\u001b[0m\u001b[0m_make_engine\u001b[0m\u001b[1;33m(\u001b[0m\u001b[0mself\u001b[0m\u001b[1;33m.\u001b[0m\u001b[0mengine\u001b[0m\u001b[1;33m)\u001b[0m\u001b[1;33m\u001b[0m\u001b[0m\n\u001b[0m\u001b[0;32m    646\u001b[0m \u001b[1;33m\u001b[0m\u001b[0m\n\u001b[0;32m    647\u001b[0m     \u001b[1;32mdef\u001b[0m \u001b[0mclose\u001b[0m\u001b[1;33m(\u001b[0m\u001b[0mself\u001b[0m\u001b[1;33m)\u001b[0m\u001b[1;33m:\u001b[0m\u001b[1;33m\u001b[0m\u001b[0m\n",
      "\u001b[1;32m/home/tadlington/nibenv/local/lib/python2.7/site-packages/pandas/io/parsers.pyc\u001b[0m in \u001b[0;36m_make_engine\u001b[1;34m(self, engine)\u001b[0m\n\u001b[0;32m    797\u001b[0m     \u001b[1;32mdef\u001b[0m \u001b[0m_make_engine\u001b[0m\u001b[1;33m(\u001b[0m\u001b[0mself\u001b[0m\u001b[1;33m,\u001b[0m \u001b[0mengine\u001b[0m\u001b[1;33m=\u001b[0m\u001b[1;34m'c'\u001b[0m\u001b[1;33m)\u001b[0m\u001b[1;33m:\u001b[0m\u001b[1;33m\u001b[0m\u001b[0m\n\u001b[0;32m    798\u001b[0m         \u001b[1;32mif\u001b[0m \u001b[0mengine\u001b[0m \u001b[1;33m==\u001b[0m \u001b[1;34m'c'\u001b[0m\u001b[1;33m:\u001b[0m\u001b[1;33m\u001b[0m\u001b[0m\n\u001b[1;32m--> 799\u001b[1;33m             \u001b[0mself\u001b[0m\u001b[1;33m.\u001b[0m\u001b[0m_engine\u001b[0m \u001b[1;33m=\u001b[0m \u001b[0mCParserWrapper\u001b[0m\u001b[1;33m(\u001b[0m\u001b[0mself\u001b[0m\u001b[1;33m.\u001b[0m\u001b[0mf\u001b[0m\u001b[1;33m,\u001b[0m \u001b[1;33m**\u001b[0m\u001b[0mself\u001b[0m\u001b[1;33m.\u001b[0m\u001b[0moptions\u001b[0m\u001b[1;33m)\u001b[0m\u001b[1;33m\u001b[0m\u001b[0m\n\u001b[0m\u001b[0;32m    800\u001b[0m         \u001b[1;32melse\u001b[0m\u001b[1;33m:\u001b[0m\u001b[1;33m\u001b[0m\u001b[0m\n\u001b[0;32m    801\u001b[0m             \u001b[1;32mif\u001b[0m \u001b[0mengine\u001b[0m \u001b[1;33m==\u001b[0m \u001b[1;34m'python'\u001b[0m\u001b[1;33m:\u001b[0m\u001b[1;33m\u001b[0m\u001b[0m\n",
      "\u001b[1;32m/home/tadlington/nibenv/local/lib/python2.7/site-packages/pandas/io/parsers.pyc\u001b[0m in \u001b[0;36m__init__\u001b[1;34m(self, src, **kwds)\u001b[0m\n\u001b[0;32m   1211\u001b[0m         \u001b[0mkwds\u001b[0m\u001b[1;33m[\u001b[0m\u001b[1;34m'allow_leading_cols'\u001b[0m\u001b[1;33m]\u001b[0m \u001b[1;33m=\u001b[0m \u001b[0mself\u001b[0m\u001b[1;33m.\u001b[0m\u001b[0mindex_col\u001b[0m \u001b[1;32mis\u001b[0m \u001b[1;32mnot\u001b[0m \u001b[0mFalse\u001b[0m\u001b[1;33m\u001b[0m\u001b[0m\n\u001b[0;32m   1212\u001b[0m \u001b[1;33m\u001b[0m\u001b[0m\n\u001b[1;32m-> 1213\u001b[1;33m         \u001b[0mself\u001b[0m\u001b[1;33m.\u001b[0m\u001b[0m_reader\u001b[0m \u001b[1;33m=\u001b[0m \u001b[0m_parser\u001b[0m\u001b[1;33m.\u001b[0m\u001b[0mTextReader\u001b[0m\u001b[1;33m(\u001b[0m\u001b[0msrc\u001b[0m\u001b[1;33m,\u001b[0m \u001b[1;33m**\u001b[0m\u001b[0mkwds\u001b[0m\u001b[1;33m)\u001b[0m\u001b[1;33m\u001b[0m\u001b[0m\n\u001b[0m\u001b[0;32m   1214\u001b[0m \u001b[1;33m\u001b[0m\u001b[0m\n\u001b[0;32m   1215\u001b[0m         \u001b[1;31m# XXX\u001b[0m\u001b[1;33m\u001b[0m\u001b[1;33m\u001b[0m\u001b[0m\n",
      "\u001b[1;32mpandas/parser.pyx\u001b[0m in \u001b[0;36mpandas.parser.TextReader.__cinit__ (pandas/parser.c:3427)\u001b[1;34m()\u001b[0m\n",
      "\u001b[1;32mpandas/parser.pyx\u001b[0m in \u001b[0;36mpandas.parser.TextReader._setup_parser_source (pandas/parser.c:6861)\u001b[1;34m()\u001b[0m\n",
      "\u001b[1;31mIOError\u001b[0m: File Data/joint_HCP_500_metadata.csv does not exist"
     ],
     "output_type": "error"
    }
   ],
   "source": [
    "#Load netmats and meta data\n",
    "metadata = load_patient_metadata('Data/joint_HCP_500_metadata.csv', subject_measures=[\"Gender\"])\n",
    "\n",
    "\n",
    "#metadata = metadata.as_matrix()\n",
    "#metadata = np.ravel(metadata)\n",
    "\n",
    "print metadata.shape\n",
    "le = LabelEncoder()\n",
    "metadata = le.fit_transform(metadata[\"Gender\"].values)\n",
    "\n",
    "\n",
    "netmats = load_netmats('/home/tadlington/bitbucket/HCP_500/HCP500_460_partial_corr_netmat.txt')"
   ]
  },
  {
   "cell_type": "code",
   "execution_count": 3,
   "metadata": {
    "collapsed": false
   },
   "outputs": [
    {
     "name": "stdout",
     "output_type": "stream",
     "text": [
      "(100, 1)\n"
     ]
    }
   ],
   "source": [
    "subject_ids = [100307,100408,101107,101309,101915,103111,103414,\n",
    "                            103818,105014,105115,106016,108828,110411,111312,\n",
    "                            111716,113619,113922,114419,115320,116524,117122,\n",
    "                            118528,118730,118932,120111,122317,122620,123117,\n",
    "                            123925,124422,125525,126325,127630,127933,128127,\n",
    "                            128632,129028,130013,130316,131217,131722,133019,\n",
    "                            133928,135225,135932,136833,138534,139637,140925,\n",
    "                            144832,146432,147737,148335,148840,149337,149539,\n",
    "                            149741,151223,151526,151627,153025,154734,156637,159340,160123,161731,162733,163129,176542,178950,\n",
    "                            188347,189450,190031,192540,196750,198451,199655,\n",
    "                            201111,208226,211417,211720,212318,214423,221319,\n",
    "                            239944,245333,280739,298051,366446,397760,414229,\n",
    "                            499566,654754,672756,751348,756055,792564,856766,\n",
    "                            857263,899885]\n",
    "metadata = load_patient_metadata('../unrestricted_sofira_11_17_2015_6_15_1.csv', subject_measures=[\"Gender\"], subjects=subject_ids)\n",
    "print metadata.shape\n",
    "le = LabelEncoder()\n",
    "metadata = le.fit_transform(metadata[\"Gender\"].values)\n",
    "lnets = load_netmats('//home/tadlington/bitbucket/joint_ica/L_joint_migp_no_medial_dim4000.nii.gz_d150.ica/struct_dr//netmats/netmats-corr-nozstat.txt')\n",
    "rnets = load_netmats('/home/tadlington/bitbucket/joint_ica/R_joint_migp_no_medial_dim4000.nii.gz_d150.ica/struct_dr//netmats/netmats-corr-nozstat.txt')\n",
    "netmats = np.hstack((lnets, rnets))"
   ]
  },
  {
   "cell_type": "code",
   "execution_count": 18,
   "metadata": {
    "collapsed": false
   },
   "outputs": [
    {
     "name": "stdout",
     "output_type": "stream",
     "text": [
      "(460, 1)\n"
     ]
    }
   ],
   "source": [
    "subject_ids = [100307, 100408, 101006, 101107, 101309, 101915, 102008, 102311, 102816, 103111, 103414, 103515, 103818, 104820, 105014, 105115, 105216, 106016, 106319, 106521, 107321, 107422, 108121, 108323, 108525, 108828, 109123, 109325, 110411, 111312, 111413, 111716, 113215, 113619, 113922, 114419, 114924, 115320, 116524, 117122, 117324, 118528, 118730, 118932, 120111, 120212, 120515, 121618, 122317, 122620, 123117, 123420, 123925, 124220, 124422, 124826, 125525, 126325, 126628, 127630, 127933, 128127, 128632, 129028, 130013, 130316, 130922, 131217, 131722, 131924, 132118, 133019, 133625, 133827, 133928, 134324, 135225, 135528, 135932, 136227, 136833, 137027, 137128, 137633, 137936, 138231, 138534, 139233, 139637, 140117, 140824, 140925, 141422, 141826, 142626, 142828, 143325, 144226, 144832, 145834, 146331, 146432, 147030, 147737, 148032, 148335, 148840, 148941, 149337, 149539, 149741, 150625, 150726, 151223, 151526, 151627, 151728, 152831, 153025, 153429, 154431, 154734, 154936, 155635, 156233, 156637, 157336, 157437, 158035, 158136, 158540, 159138, 159239, 159340, 159441, 160123, 160830, 161327, 161630, 161731, 162026, 162228, 162329, 162733, 163129, 163331, 163432, 163836, 164030, 164131, 164939, 165032, 165840, 166438, 167036, 167743, 168139, 168341, 169444, 171633, 172029, 172130, 172332, 172534, 172938, 173334, 173435, 173536, 173940, 175035, 175439, 176542, 177645, 177746, 178142, 178748, 178849, 178950, 179346, 180129, 180432, 180836, 180937, 181131, 181232, 182739, 182840, 183034, 185139, 186141, 187143, 187547, 187850, 188347, 189349, 189450, 190031, 191033, 191336, 191437, 191841, 192439, 192540, 192843, 193239, 194140, 194645, 194847, 195041, 195647, 195849, 196144, 196750, 197348, 197550, 198350, 198451, 198855, 199150, 199251, 199453, 199655, 199958, 200109, 200614, 201111, 201414, 201818, 203418, 204016, 204521, 205119, 205220, 205725, 205826, 208024, 208226, 208327, 209834, 209935, 210011, 210415, 210617, 211215, 211316, 211417, 211720, 211922, 212116, 212217, 212318, 212419, 214019, 214221, 214423, 214726, 217126, 217429, 221319, 224022, 231928, 233326, 239944, 245333, 246133, 249947, 250427, 250932, 251833, 255639, 256540, 268850, 280739, 285345, 285446, 289555, 290136, 293748, 298051, 298455, 303119, 303624, 307127, 308331, 310621, 316633, 329440, 334635, 339847, 352132, 352738, 356948, 361941, 365343, 366042, 366446, 371843, 377451, 380036, 382242, 386250, 395958, 397154, 397760, 397861, 412528, 414229, 415837, 422632, 433839, 436239, 436845, 441939, 445543, 448347, 465852, 475855, 480141, 485757, 486759, 497865, 499566, 500222, 510326, 519950, 522434, 530635, 531536, 540436, 541943, 545345, 547046, 552544, 559053, 561242, 562446, 565452, 566454, 567052, 567961, 568963, 570243, 573249, 573451, 579665, 580044, 580347, 581349, 583858, 585862, 586460, 592455, 594156, 598568, 599469, 599671, 601127, 613538, 620434, 622236, 623844, 627549, 638049, 645551, 654754, 665254, 672756, 673455, 677968, 679568, 680957, 683256, 685058, 687163, 690152, 695768, 702133, 704238, 705341, 709551, 713239, 715041, 715647, 729254, 729557, 732243, 734045, 742549, 748258, 748662, 749361, 751348, 753251, 756055, 759869, 761957, 765056, 770352, 771354, 779370, 782561, 784565, 788876, 789373, 792564, 792766, 802844, 814649, 816653, 826353, 826454, 833148, 833249, 837560, 837964, 845458, 849971, 856766, 857263, 859671, 861456, 865363, 871762, 872158, 872764, 877168, 877269, 885975, 887373, 889579, 894673, 896778, 896879, 898176, 899885, 901038, 901139, 901442, 904044, 907656, 910241, 912447, 917255, 922854, 930449, 932554, 937160, 951457, 957974, 958976, 959574, 965367, 965771, 978578, 979984, 983773, 984472, 987983, 991267, 992774, 994273]\n",
    "metadata = load_patient_metadata('../unrestricted_sofira_11_17_2015_6_15_1.csv', subject_measures=[\"PicVocab_AgeAdj\"], subjects=subject_ids)\n",
    "print metadata.shape\n",
    "le = LabelEncoder()\n",
    "metadata = le.fit_transform(metadata[\"PicVocab_AgeAdj\"].values)\n",
    "netmats = load_netmats('/home/tadlington/bitbucket/HCP_500/HCP500_netmat2.txt')\n",
    "netmats = np.delete(netmats, 94, 0)"
   ]
  },
  {
   "cell_type": "code",
   "execution_count": 20,
   "metadata": {
    "collapsed": false
   },
   "outputs": [],
   "source": [
    "#Create your Tuner\n",
    "reload(EN)\n",
    "\n",
    "#tuner = RandomForestTuner(n_jobs=-1, cv=5, classifier=True)\n",
    "tuner = EN.ElasticNetTuner(n_jobs=-1, cv =5)\n",
    "\n",
    "#tuner = EN.NNTuner(n_jobs=-1, cv=5, classifier=True)\n",
    "#tuner.fit(netmats, metadata)\n",
    "#"
   ]
  },
  {
   "cell_type": "code",
   "execution_count": 69,
   "metadata": {
    "collapsed": false
   },
   "outputs": [
    {
     "name": "stdout",
     "output_type": "stream",
     "text": [
      "(100, 18769)\n",
      "<bound method ElasticNet.decision_function of ElasticNet(alpha=0.1, copy_X=True, fit_intercept=True, l1_ratio=0.7,\n",
      "      max_iter=1000, normalize=False, positive=False, precompute=False,\n",
      "      random_state=None, selection='cyclic', tol=0.0001, warm_start=False)>\n",
      "0\n",
      "0.0\n"
     ]
    }
   ],
   "source": [
    "\"\"\"\n",
    "print tuner.grid.best_score_\n",
    "print tuner.grid.best_params_\n",
    "print tuner.grid.grid_scores_\n",
    "print tuner.forest\n",
    "print sum(metadata == 0)\n",
    "print 271 / 460.0\n",
    "\"\"\"\n",
    "#print tuner.fitted\n",
    "#print tuner.net.mse_path_.shape\n",
    "#print tuner.net.alpha_\n",
    "#print tuner.net.l1_ratio_\n",
    "\n",
    "from sklearn.linear_model import ElasticNet\n",
    "n = ElasticNet(alpha=0.1, l1_ratio=0.7)\n",
    "print netmats.shape\n",
    "n.fit(netmats, metadata)\n",
    "print n.decision_function\n",
    "print np.count_nonzero(n.coef_)\n",
    "print sum(n.coef_)\n",
    "#print sum(tuner.net.coef_)"
   ]
  },
  {
   "cell_type": "code",
   "execution_count": 31,
   "metadata": {
    "collapsed": false
   },
   "outputs": [
    {
     "name": "stdout",
     "output_type": "stream",
     "text": [
      "[[-0.0056095 -0.0056095 -0.0108    ..., -0.012477  -0.020408  -0.020408 ]\n",
      " [-0.0047848 -0.0047848 -0.005464  ...,  0.0015592 -0.017319  -0.017319 ]\n",
      " [-0.012603  -0.012603  -0.0068972 ..., -0.0080482 -0.021039  -0.021039 ]\n",
      " ..., \n",
      " [-0.013533  -0.013533  -0.0082484 ..., -0.012059  -0.016583  -0.016583 ]\n",
      " [-0.012057  -0.012057  -0.0064255 ..., -0.0060705 -0.0093493 -0.0093493]\n",
      " [-0.0082772 -0.0082772 -0.0049736 ..., -0.010447  -0.014726  -0.014726 ]]\n",
      "[[-0.0076119 -0.0076119 -0.011268  ...,  0.0021207 -0.0082371 -0.0082371]\n",
      " [-0.0079065 -0.0079065 -0.031532  ..., -0.0031547 -0.004225  -0.004225 ]\n",
      " [-0.0051267 -0.0051267 -0.013833  ..., -0.007238  -0.011116  -0.011116 ]\n",
      " ..., \n",
      " [-0.0065409 -0.0065409 -0.01653   ...,  0.003406  -0.011688  -0.011688 ]\n",
      " [-0.0052376 -0.0052376 -0.012231  ...,  0.010451  -0.009721  -0.009721 ]\n",
      " [-0.0057252 -0.0057252 -0.015527  ..., -0.0079674 -0.010581  -0.010581 ]]\n",
      "[[-0.0058667  -0.0058667  -0.014498   ...,  0.001104   -0.0080494\n",
      "  -0.0080494 ]\n",
      " [-0.0058894  -0.0058894  -0.0032858  ..., -0.0047617  -0.00017117\n",
      "  -0.00017117]\n",
      " [-0.0073018  -0.0073018  -0.0020454  ..., -0.00502    -0.0027766\n",
      "  -0.0027766 ]\n",
      " ..., \n",
      " [-0.0057612  -0.0057612  -0.013969   ..., -0.0086204  -0.0064463\n",
      "  -0.0064463 ]\n",
      " [-0.00806    -0.00806    -0.0062698  ..., -0.0026424   0.0044041\n",
      "   0.0044041 ]\n",
      " [-0.012659   -0.012659   -0.0070278  ..., -0.009361    0.00052404\n",
      "   0.00052404]]\n",
      "[[-0.0046095 -0.0046095 -0.0045664 ..., -0.0027318 -0.00602   -0.00602  ]\n",
      " [-0.0070899 -0.0070899 -0.0083025 ..., -0.0035043 -0.0062469 -0.0062469]\n",
      " [-0.010549  -0.010549  -0.0077218 ..., -0.0064165 -0.0064277 -0.0064277]\n",
      " ..., \n",
      " [-0.0072668 -0.0072668 -0.0043958 ...,  0.0048987 -0.0077877 -0.0077877]\n",
      " [-0.012917  -0.012917  -0.0085858 ..., -0.0068568 -0.0055348 -0.0055348]\n",
      " [-0.0068166 -0.0068166 -0.0079321 ...,  0.0040469 -0.0070371 -0.0070371]]\n",
      "[[-0.011758   -0.011758   -0.0088391  ..., -0.0054153   0.00054539\n",
      "   0.00054539]\n",
      " [-0.007126   -0.007126   -0.0095839  ...,  0.028528   -0.0054169\n",
      "  -0.0054169 ]\n",
      " [-0.0054303  -0.0054303  -0.0049442  ...,  0.01194     0.0036833\n",
      "   0.0036833 ]\n",
      " ..., \n",
      " [-0.0057611  -0.0057611  -0.010841   ...,  0.0050198   0.0020026\n",
      "   0.0020026 ]\n",
      " [-0.0095359  -0.0095359  -0.0072094  ..., -0.0048794   0.0079814\n",
      "   0.0079814 ]\n",
      " [-0.0083188  -0.0083188  -0.0056124  ...,  0.019037   -0.00095327\n",
      "  -0.00095327]]\n",
      "[[-0.0043377  -0.0043377  -0.0015278  ...,  0.0064755  -0.0073448\n",
      "  -0.0073448 ]\n",
      " [-0.0066716  -0.0066716  -0.0089814  ..., -0.00066207 -0.010344   -0.010344  ]\n",
      " [-0.0051688  -0.0051688  -0.0082215  ...,  0.0097532  -0.0072429\n",
      "  -0.0072429 ]\n",
      " ..., \n",
      " [-0.0083008  -0.0083008  -0.0064182  ...,  0.0050825  -0.0083534\n",
      "  -0.0083534 ]\n",
      " [-0.0054646  -0.0054646  -0.0092145  ...,  0.0043126  -0.0071582\n",
      "  -0.0071582 ]\n",
      " [-0.0086069  -0.0086069  -0.01136    ..., -0.0017154  -0.015944   -0.015944  ]]\n",
      "[[-0.009344   -0.009344   -0.0086152  ..., -0.0076518   0.017732    0.017732  ]\n",
      " [-0.0074986  -0.0074986  -0.002566   ...,  0.00019189  0.025511    0.025511  ]\n",
      " [-0.01055    -0.01055    -0.0086645  ..., -0.0097266  -0.020124   -0.020124  ]\n",
      " ..., \n",
      " [-0.0056082  -0.0056082  -0.011106   ..., -0.01481     0.0055519\n",
      "   0.0055519 ]\n",
      " [-0.0079675  -0.0079675  -0.0091056  ..., -0.0020802   0.015073    0.015073  ]\n",
      " [-0.0080642  -0.0080642  -0.00703    ...,  0.0058935  -0.007645   -0.007645  ]]\n",
      "[[-0.0090975 -0.0090975 -0.0065237 ...,  0.14139   -0.0041008 -0.0041008]\n",
      " [-0.0067328 -0.0067328 -0.0072247 ..., -0.021358  -0.0066582 -0.0066582]\n",
      " [-0.0078217 -0.0078217 -0.0042245 ...,  0.079697  -0.003277  -0.003277 ]\n",
      " ..., \n",
      " [-0.0071944 -0.0071944 -0.0036331 ...,  0.095933  -0.012986  -0.012986 ]\n",
      " [-0.0097919 -0.0097919 -0.00436   ...,  0.093626   0.013398   0.013398 ]\n",
      " [-0.0063653 -0.0063653 -0.0064086 ...,  0.11009    0.0089268  0.0089268]]\n",
      "[[-0.0062626 -0.0062626 -0.0065112 ..., -0.0059011 -0.0087327 -0.0087327]\n",
      " [-0.010066  -0.010066  -0.0085553 ..., -0.001861  -0.010461  -0.010461 ]\n",
      " [-0.0044491 -0.0044491 -0.0027413 ...,  0.0043745 -0.0042933 -0.0042933]\n",
      " ..., \n",
      " [-0.0057589 -0.0057589 -0.0062149 ...,  0.0040283 -0.0088006 -0.0088006]\n",
      " [-0.0043093 -0.0043093 -0.0053181 ..., -0.0035112 -0.012451  -0.012451 ]\n",
      " [-0.005547  -0.005547  -0.0018251 ..., -0.004563  -0.0038187 -0.0038187]]\n",
      "[[-0.0092993 -0.0092993 -0.0042218 ...,  0.0064256 -0.014265  -0.014265 ]\n",
      " [-0.0089232 -0.0089232 -0.0096255 ...,  0.0012855 -0.015486  -0.015486 ]\n",
      " [-0.011069  -0.011069  -0.011321  ...,  0.0061605 -0.0071341 -0.0071341]\n",
      " ..., \n",
      " [-0.0053025 -0.0053025 -0.0058997 ...,  0.0010126 -0.0075098 -0.0075098]\n",
      " [-0.0064704 -0.0064704 -0.0055193 ...,  0.0012408 -0.0037888 -0.0037888]\n",
      " [-0.0097843 -0.0097843 -0.0087795 ..., -0.0057327 -0.0054277 -0.0054277]]\n"
     ]
    },
    {
     "name": "stderr",
     "output_type": "stream",
     "text": [
      "[Parallel(n_jobs=1)]: Done  10 out of  10 | elapsed: 39.3min finished\n"
     ]
    }
   ],
   "source": [
    "#Get Predictions or score\n",
    "from sklearn.cross_validation import cross_val_predict\n",
    "from sklearn.cross_validation import cross_val_score\n",
    "\n",
    "predictions = cross_val_predict(tuner, netmats, y=metadata, cv=10, verbose=2)"
   ]
  },
  {
   "cell_type": "code",
   "execution_count": 32,
   "metadata": {
    "collapsed": false
   },
   "outputs": [
    {
     "name": "stdout",
     "output_type": "stream",
     "text": [
      "(100,)\n",
      "[ 1.  1.  1.  0.  1.  1.  1. -0.  0.  1.  0.  1.  1.  0. -0.  0.  1.  1.\n",
      "  0.  1.  0.  1.  1.  0.  0.  1.  0.  1.  1. -0.  0.  0. -0.  1.  0. -0.\n",
      " -0.  1.  1.  0.  1.  0.  0.  0.  0.  0.  1. -0.  0.  0.  1.  0.  0.  0.\n",
      "  1.  1.  1.  1.  1.  1.  1.  1.  1.  1.  1.  0.  1.  1.  0.  1.  0.  1.\n",
      "  0.  0.  0.  1.  1.  1. -0. -0.  1.  1.  1. -0.  1.  0.  0.  1.  0.  1.\n",
      "  1.  0.  1.  1.  1.  0.  0.  0. -0.  0.]\n",
      "[0 1 1 1 0 1 0 0 0 1 0 1 1 0 0 0 1 1 0 1 0 0 1 1 0 1 1 1 0 0 0 0 0 1 0 0 1\n",
      " 1 0 0 0 0 1 0 0 1 1 0 0 0 1 0 0 0 1 1 1 0 1 0 0 1 1 1 1 0 0 1 0 1 0 1 0 0\n",
      " 0 1 1 1 0 1 1 0 1 0 0 0 0 0 1 1 1 0 0 1 1 1 0 0 1 0]\n",
      "0.75\n"
     ]
    }
   ],
   "source": [
    "from sklearn.metrics import accuracy_score\n",
    "from sklearn.metrics import r2_score\n",
    "print metadata.shape\n",
    "#print metadata\n",
    "#print predictions\n",
    "#print predictions\n",
    "rp = np.round(predictions)\n",
    "print rp\n",
    "print metadata\n",
    "print accuracy_score(rp, metadata)\n",
    "#print r2_score(predictions, metadata)"
   ]
  },
  {
   "cell_type": "code",
   "execution_count": null,
   "metadata": {
    "collapsed": true
   },
   "outputs": [],
   "source": [
    ""
   ]
  }
 ],
 "metadata": {
  "kernelspec": {
   "display_name": "Python 2",
   "language": "python",
   "name": "python2"
  },
  "language_info": {
   "codemirror_mode": {
    "name": "ipython",
    "version": 2.0
   },
   "file_extension": ".py",
   "mimetype": "text/x-python",
   "name": "python",
   "nbconvert_exporter": "python",
   "pygments_lexer": "ipython2",
   "version": "2.7.11+"
  }
 },
 "nbformat": 4,
 "nbformat_minor": 0
}
{
 "cells": [
  {
   "cell_type": "code",
   "execution_count": 1,
   "metadata": {
    "collapsed": false
   },
   "outputs": [],
   "source": [
    "import Predictors.ElasticNetTuner as EN\n",
    "from Predictors.RandomForestTuner import RandomForestTuner\n",
    "import Predictors.NNTuner  as NN\n",
    "from DataLoader.MetadataHelper import *\n",
    "from DataLoader.utils import load_netmats\n",
    "from sklearn.preprocessing import LabelEncoder\n",
    "import numpy as np"
   ]
  },
  {
   "cell_type": "code",
   "execution_count": 90,
   "metadata": {
    "collapsed": false
   },
   "outputs": [
    {
     "name": "stdout",
     "output_type": "stream",
     "text": [
      "(460, 1)\n"
     ]
    }
   ],
   "source": [
    "#Load netmats and meta data\n",
    "metadata = load_patient_metadata('Data/joint_HCP_500_metadata.csv', subject_measures=[\"Gender\"])\n",
    "\n",
    "\n",
    "#metadata = metadata.as_matrix()\n",
    "#metadata = np.ravel(metadata)\n",
    "\n",
    "print metadata.shape\n",
    "le = LabelEncoder()\n",
    "metadata = le.fit_transform(metadata[\"Gender\"].values)\n",
    "\n",
    "\n",
    "netmats = load_netmats('/home/tadlington/bitbucket/HCP_500/HCP500_460_partial_corr_netmat.txt')"
   ]
  },
  {
   "cell_type": "code",
   "execution_count": 27,
   "metadata": {
    "collapsed": false
   },
   "outputs": [
    {
     "name": "stdout",
     "output_type": "stream",
     "text": [
      "(100, 1)\n"
     ]
    },
    {
     "ename": "IOError",
     "evalue": "//home/tadlington/bitbucket/ta2812/Data/joint_ica/L_joint_migp_no_medial_dim4000.nii.gz_d150.ica/struct_dr//netmats/netmats-corr-nozstat.txt not found.",
     "output_type": "error",
     "traceback": [
      "\u001b[1;31m---------------------------------------------------------------------------\u001b[0m",
      "\u001b[1;31mIOError\u001b[0m                                   Traceback (most recent call last)",
      "\u001b[1;32m<ipython-input-27-6ae0aee03e94>\u001b[0m in \u001b[0;36m<module>\u001b[1;34m()\u001b[0m\n\u001b[0;32m     19\u001b[0m \u001b[1;31m#lnets = load_netmats('/home/tadlington//bitbucket/joint_ica/l_concat_migp.nii.gz_d137.ica/struct_dr/netmats/netmats-corr-nozstat.txt')\u001b[0m\u001b[1;33m\u001b[0m\u001b[1;33m\u001b[0m\u001b[0m\n\u001b[0;32m     20\u001b[0m \u001b[1;31m#rnets = load_netmats('/home/tadlington/bitbucket/joint_ica/r_concat_migp.nii.gz_d137.ica/struct_dr/netmats/netmats-corr-nozstat.txt')\u001b[0m\u001b[1;33m\u001b[0m\u001b[1;33m\u001b[0m\u001b[0m\n\u001b[1;32m---> 21\u001b[1;33m \u001b[0mlnets\u001b[0m \u001b[1;33m=\u001b[0m \u001b[0mload_netmats\u001b[0m\u001b[1;33m(\u001b[0m\u001b[1;34m'//home/tadlington/bitbucket/ta2812/Data/joint_ica/L_joint_migp_no_medial_dim4000.nii.gz_d150.ica/struct_dr//netmats/netmats-corr-nozstat.txt'\u001b[0m\u001b[1;33m)\u001b[0m\u001b[1;33m\u001b[0m\u001b[0m\n\u001b[0m\u001b[0;32m     22\u001b[0m \u001b[0mrnets\u001b[0m \u001b[1;33m=\u001b[0m \u001b[0mload_netmats\u001b[0m\u001b[1;33m(\u001b[0m\u001b[1;34m'/home/tadlington/bitbucket/ta2812/Data/joint_ica/R_joint_migp_no_medial_dim4000.nii.gz_d150.ica/struct_dr//netmats/netmats-corr-nozstat.txt'\u001b[0m\u001b[1;33m)\u001b[0m\u001b[1;33m\u001b[0m\u001b[0m\n\u001b[0;32m     23\u001b[0m \u001b[1;31m#lnets = load_netmats('/home/tadlington/bitbucket/Structural_ICA/dual_regressed/L/netmats/netmats-corr-nozstat.txt')\u001b[0m\u001b[1;33m\u001b[0m\u001b[1;33m\u001b[0m\u001b[0m\n",
      "\u001b[1;32m/home/tadlington/BrainConnectivity/BrainConnectivity/DataLoader/utils.pyc\u001b[0m in \u001b[0;36mload_netmats\u001b[1;34m(netmats_file)\u001b[0m\n\u001b[0;32m     20\u001b[0m     \u001b[1;33m:\u001b[0m\u001b[1;32mreturn\u001b[0m\u001b[1;33m:\u001b[0m \u001b[0mnumpy\u001b[0m \u001b[0mmatrix\u001b[0m \u001b[0mof\u001b[0m \u001b[0mnetmats\u001b[0m\u001b[1;33m\u001b[0m\u001b[0m\n\u001b[0;32m     21\u001b[0m     \"\"\"\n\u001b[1;32m---> 22\u001b[1;33m     \u001b[1;32mreturn\u001b[0m \u001b[0mnp\u001b[0m\u001b[1;33m.\u001b[0m\u001b[0mgenfromtxt\u001b[0m\u001b[1;33m(\u001b[0m\u001b[0mnetmats_file\u001b[0m\u001b[1;33m,\u001b[0m \u001b[0mdelimiter\u001b[0m\u001b[1;33m=\u001b[0m\u001b[1;34m\",\"\u001b[0m\u001b[1;33m)\u001b[0m\u001b[1;33m\u001b[0m\u001b[0m\n\u001b[0m\u001b[0;32m     23\u001b[0m \u001b[1;33m\u001b[0m\u001b[0m\n\u001b[0;32m     24\u001b[0m \u001b[1;33m\u001b[0m\u001b[0m\n",
      "\u001b[1;32m/home/tadlington/nibenv/local/lib/python2.7/site-packages/numpy/lib/npyio.pyc\u001b[0m in \u001b[0;36mgenfromtxt\u001b[1;34m(fname, dtype, comments, delimiter, skip_header, skip_footer, converters, missing_values, filling_values, usecols, names, excludelist, deletechars, replace_space, autostrip, case_sensitive, defaultfmt, unpack, usemask, loose, invalid_raise, max_rows)\u001b[0m\n\u001b[0;32m   1449\u001b[0m         \u001b[1;32mif\u001b[0m \u001b[0misinstance\u001b[0m\u001b[1;33m(\u001b[0m\u001b[0mfname\u001b[0m\u001b[1;33m,\u001b[0m \u001b[0mbasestring\u001b[0m\u001b[1;33m)\u001b[0m\u001b[1;33m:\u001b[0m\u001b[1;33m\u001b[0m\u001b[0m\n\u001b[0;32m   1450\u001b[0m             \u001b[1;32mif\u001b[0m \u001b[0msys\u001b[0m\u001b[1;33m.\u001b[0m\u001b[0mversion_info\u001b[0m\u001b[1;33m[\u001b[0m\u001b[1;36m0\u001b[0m\u001b[1;33m]\u001b[0m \u001b[1;33m==\u001b[0m \u001b[1;36m2\u001b[0m\u001b[1;33m:\u001b[0m\u001b[1;33m\u001b[0m\u001b[0m\n\u001b[1;32m-> 1451\u001b[1;33m                 \u001b[0mfhd\u001b[0m \u001b[1;33m=\u001b[0m \u001b[0miter\u001b[0m\u001b[1;33m(\u001b[0m\u001b[0mnp\u001b[0m\u001b[1;33m.\u001b[0m\u001b[0mlib\u001b[0m\u001b[1;33m.\u001b[0m\u001b[0m_datasource\u001b[0m\u001b[1;33m.\u001b[0m\u001b[0mopen\u001b[0m\u001b[1;33m(\u001b[0m\u001b[0mfname\u001b[0m\u001b[1;33m,\u001b[0m \u001b[1;34m'rbU'\u001b[0m\u001b[1;33m)\u001b[0m\u001b[1;33m)\u001b[0m\u001b[1;33m\u001b[0m\u001b[0m\n\u001b[0m\u001b[0;32m   1452\u001b[0m             \u001b[1;32melse\u001b[0m\u001b[1;33m:\u001b[0m\u001b[1;33m\u001b[0m\u001b[0m\n\u001b[0;32m   1453\u001b[0m                 \u001b[0mfhd\u001b[0m \u001b[1;33m=\u001b[0m \u001b[0miter\u001b[0m\u001b[1;33m(\u001b[0m\u001b[0mnp\u001b[0m\u001b[1;33m.\u001b[0m\u001b[0mlib\u001b[0m\u001b[1;33m.\u001b[0m\u001b[0m_datasource\u001b[0m\u001b[1;33m.\u001b[0m\u001b[0mopen\u001b[0m\u001b[1;33m(\u001b[0m\u001b[0mfname\u001b[0m\u001b[1;33m,\u001b[0m \u001b[1;34m'rb'\u001b[0m\u001b[1;33m)\u001b[0m\u001b[1;33m)\u001b[0m\u001b[1;33m\u001b[0m\u001b[0m\n",
      "\u001b[1;32m/home/tadlington/nibenv/local/lib/python2.7/site-packages/numpy/lib/_datasource.pyc\u001b[0m in \u001b[0;36mopen\u001b[1;34m(path, mode, destpath)\u001b[0m\n\u001b[0;32m    149\u001b[0m \u001b[1;33m\u001b[0m\u001b[0m\n\u001b[0;32m    150\u001b[0m     \u001b[0mds\u001b[0m \u001b[1;33m=\u001b[0m \u001b[0mDataSource\u001b[0m\u001b[1;33m(\u001b[0m\u001b[0mdestpath\u001b[0m\u001b[1;33m)\u001b[0m\u001b[1;33m\u001b[0m\u001b[0m\n\u001b[1;32m--> 151\u001b[1;33m     \u001b[1;32mreturn\u001b[0m \u001b[0mds\u001b[0m\u001b[1;33m.\u001b[0m\u001b[0mopen\u001b[0m\u001b[1;33m(\u001b[0m\u001b[0mpath\u001b[0m\u001b[1;33m,\u001b[0m \u001b[0mmode\u001b[0m\u001b[1;33m)\u001b[0m\u001b[1;33m\u001b[0m\u001b[0m\n\u001b[0m\u001b[0;32m    152\u001b[0m \u001b[1;33m\u001b[0m\u001b[0m\n\u001b[0;32m    153\u001b[0m \u001b[1;33m\u001b[0m\u001b[0m\n",
      "\u001b[1;32m/home/tadlington/nibenv/local/lib/python2.7/site-packages/numpy/lib/_datasource.pyc\u001b[0m in \u001b[0;36mopen\u001b[1;34m(self, path, mode)\u001b[0m\n\u001b[0;32m    499\u001b[0m             \u001b[1;32mreturn\u001b[0m \u001b[0m_file_openers\u001b[0m\u001b[1;33m[\u001b[0m\u001b[0mext\u001b[0m\u001b[1;33m]\u001b[0m\u001b[1;33m(\u001b[0m\u001b[0mfound\u001b[0m\u001b[1;33m,\u001b[0m \u001b[0mmode\u001b[0m\u001b[1;33m=\u001b[0m\u001b[0mmode\u001b[0m\u001b[1;33m)\u001b[0m\u001b[1;33m\u001b[0m\u001b[0m\n\u001b[0;32m    500\u001b[0m         \u001b[1;32melse\u001b[0m\u001b[1;33m:\u001b[0m\u001b[1;33m\u001b[0m\u001b[0m\n\u001b[1;32m--> 501\u001b[1;33m             \u001b[1;32mraise\u001b[0m \u001b[0mIOError\u001b[0m\u001b[1;33m(\u001b[0m\u001b[1;34m\"%s not found.\"\u001b[0m \u001b[1;33m%\u001b[0m \u001b[0mpath\u001b[0m\u001b[1;33m)\u001b[0m\u001b[1;33m\u001b[0m\u001b[0m\n\u001b[0m\u001b[0;32m    502\u001b[0m \u001b[1;33m\u001b[0m\u001b[0m\n\u001b[0;32m    503\u001b[0m \u001b[1;33m\u001b[0m\u001b[0m\n",
      "\u001b[1;31mIOError\u001b[0m: //home/tadlington/bitbucket/ta2812/Data/joint_ica/L_joint_migp_no_medial_dim4000.nii.gz_d150.ica/struct_dr//netmats/netmats-corr-nozstat.txt not found."
     ]
    }
   ],
   "source": [
    "subject_ids = [100307,100408,101107,101309,101915,103111,103414,\n",
    "                            103818,105014,105115,106016,108828,110411,111312,\n",
    "                            111716,113619,113922,114419,115320,116524,117122,\n",
    "                            118528,118730,118932,120111,122317,122620,123117,\n",
    "                            123925,124422,125525,126325,127630,127933,128127,\n",
    "                            128632,129028,130013,130316,131217,131722,133019,\n",
    "                            133928,135225,135932,136833,138534,139637,140925,\n",
    "                            144832,146432,147737,148335,148840,149337,149539,\n",
    "                            149741,151223,151526,151627,153025,154734,156637,159340,160123,161731,162733,163129,176542,178950,\n",
    "                            188347,189450,190031,192540,196750,198451,199655,\n",
    "                            201111,208226,211417,211720,212318,214423,221319,\n",
    "                            239944,245333,280739,298051,366446,397760,414229,\n",
    "                            499566,654754,672756,751348,756055,792564,856766,\n",
    "                            857263,899885]\n",
    "metadata = load_patient_metadata('../unrestricted_sofira_11_17_2015_6_15_1.csv', subject_measures=[\"Gender\"], subjects=subject_ids)\n",
    "print metadata.shape\n",
    "le = LabelEncoder()\n",
    "metadata = le.fit_transform(metadata[\"Gender\"].values)\n",
    "#lnets = load_netmats('/home/tadlington//bitbucket/joint_ica/l_concat_migp.nii.gz_d137.ica/struct_dr/netmats/netmats-corr-nozstat.txt')\n",
    "#rnets = load_netmats('/home/tadlington/bitbucket/joint_ica/r_concat_migp.nii.gz_d137.ica/struct_dr/netmats/netmats-corr-nozstat.txt')\n",
    "lnets = load_netmats('//home/tadlington/bitbucket/joint_ica/L_joint_migp_no_medial_dim4000.nii.gz_d150.ica/struct_dr//netmats/netmats-corr-nozstat.txt')\n",
    "rnets = load_netmats('/home/tadlington/bitbucket/joint_ica/R_joint_migp_no_medial_dim4000.nii.gz_d150.ica/struct_dr//netmats/netmats-corr-nozstat.txt')\n",
    "#lnets = load_netmats('/home/tadlington/bitbucket/Structural_ICA/dual_regressed/L/netmats/netmats-corr-nozstat.txt')\n",
    "#rnets = load_netmats('/home/tadlington/bitbucket/Structural_ICA/dual_regressed/R/netmats/netmats-corr-nozstat.txt')\n",
    "#netmats = load_netmats('/home/tadlington/fNETMATS/netmats-ridgereg-nozstat.txt')\n",
    "netmats = np.hstack((lnets, rnets))"
   ]
  },
  {
   "cell_type": "code",
   "execution_count": 18,
   "metadata": {
    "collapsed": false
   },
   "outputs": [
    {
     "name": "stdout",
     "output_type": "stream",
     "text": [
      "(460, 1)\n"
     ]
    }
   ],
   "source": [
    "subject_ids = [100307, 100408, 101006, 101107, 101309, 101915, 102008, 102311, 102816, 103111, 103414, 103515, 103818, 104820, 105014, 105115, 105216, 106016, 106319, 106521, 107321, 107422, 108121, 108323, 108525, 108828, 109123, 109325, 110411, 111312, 111413, 111716, 113215, 113619, 113922, 114419, 114924, 115320, 116524, 117122, 117324, 118528, 118730, 118932, 120111, 120212, 120515, 121618, 122317, 122620, 123117, 123420, 123925, 124220, 124422, 124826, 125525, 126325, 126628, 127630, 127933, 128127, 128632, 129028, 130013, 130316, 130922, 131217, 131722, 131924, 132118, 133019, 133625, 133827, 133928, 134324, 135225, 135528, 135932, 136227, 136833, 137027, 137128, 137633, 137936, 138231, 138534, 139233, 139637, 140117, 140824, 140925, 141422, 141826, 142626, 142828, 143325, 144226, 144832, 145834, 146331, 146432, 147030, 147737, 148032, 148335, 148840, 148941, 149337, 149539, 149741, 150625, 150726, 151223, 151526, 151627, 151728, 152831, 153025, 153429, 154431, 154734, 154936, 155635, 156233, 156637, 157336, 157437, 158035, 158136, 158540, 159138, 159239, 159340, 159441, 160123, 160830, 161327, 161630, 161731, 162026, 162228, 162329, 162733, 163129, 163331, 163432, 163836, 164030, 164131, 164939, 165032, 165840, 166438, 167036, 167743, 168139, 168341, 169444, 171633, 172029, 172130, 172332, 172534, 172938, 173334, 173435, 173536, 173940, 175035, 175439, 176542, 177645, 177746, 178142, 178748, 178849, 178950, 179346, 180129, 180432, 180836, 180937, 181131, 181232, 182739, 182840, 183034, 185139, 186141, 187143, 187547, 187850, 188347, 189349, 189450, 190031, 191033, 191336, 191437, 191841, 192439, 192540, 192843, 193239, 194140, 194645, 194847, 195041, 195647, 195849, 196144, 196750, 197348, 197550, 198350, 198451, 198855, 199150, 199251, 199453, 199655, 199958, 200109, 200614, 201111, 201414, 201818, 203418, 204016, 204521, 205119, 205220, 205725, 205826, 208024, 208226, 208327, 209834, 209935, 210011, 210415, 210617, 211215, 211316, 211417, 211720, 211922, 212116, 212217, 212318, 212419, 214019, 214221, 214423, 214726, 217126, 217429, 221319, 224022, 231928, 233326, 239944, 245333, 246133, 249947, 250427, 250932, 251833, 255639, 256540, 268850, 280739, 285345, 285446, 289555, 290136, 293748, 298051, 298455, 303119, 303624, 307127, 308331, 310621, 316633, 329440, 334635, 339847, 352132, 352738, 356948, 361941, 365343, 366042, 366446, 371843, 377451, 380036, 382242, 386250, 395958, 397154, 397760, 397861, 412528, 414229, 415837, 422632, 433839, 436239, 436845, 441939, 445543, 448347, 465852, 475855, 480141, 485757, 486759, 497865, 499566, 500222, 510326, 519950, 522434, 530635, 531536, 540436, 541943, 545345, 547046, 552544, 559053, 561242, 562446, 565452, 566454, 567052, 567961, 568963, 570243, 573249, 573451, 579665, 580044, 580347, 581349, 583858, 585862, 586460, 592455, 594156, 598568, 599469, 599671, 601127, 613538, 620434, 622236, 623844, 627549, 638049, 645551, 654754, 665254, 672756, 673455, 677968, 679568, 680957, 683256, 685058, 687163, 690152, 695768, 702133, 704238, 705341, 709551, 713239, 715041, 715647, 729254, 729557, 732243, 734045, 742549, 748258, 748662, 749361, 751348, 753251, 756055, 759869, 761957, 765056, 770352, 771354, 779370, 782561, 784565, 788876, 789373, 792564, 792766, 802844, 814649, 816653, 826353, 826454, 833148, 833249, 837560, 837964, 845458, 849971, 856766, 857263, 859671, 861456, 865363, 871762, 872158, 872764, 877168, 877269, 885975, 887373, 889579, 894673, 896778, 896879, 898176, 899885, 901038, 901139, 901442, 904044, 907656, 910241, 912447, 917255, 922854, 930449, 932554, 937160, 951457, 957974, 958976, 959574, 965367, 965771, 978578, 979984, 983773, 984472, 987983, 991267, 992774, 994273]\n",
    "metadata = load_patient_metadata('../unrestricted_sofira_11_17_2015_6_15_1.csv', subject_measures=[\"PicVocab_AgeAdj\"], subjects=subject_ids)\n",
    "print metadata.shape\n",
    "le = LabelEncoder()\n",
    "metadata = le.fit_transform(metadata[\"PicVocab_AgeAdj\"].values)\n",
    "netmats = load_netmats('/home/tadlington/bitbucket/HCP_500/HCP500_netmat2.txt')\n",
    "netmats = np.delete(netmats, 94, 0)\n"
   ]
  },
  {
   "cell_type": "code",
   "execution_count": 20,
   "metadata": {
    "collapsed": false
   },
   "outputs": [],
   "source": [
    "#Create your Tuner\n",
    "reload(EN)\n",
    "\n",
    "#tuner = RandomForestTuner(n_jobs=-1, cv=5, classifier=True)\n",
    "tuner = EN.ElasticNetTuner(n_jobs=-1, cv =5)\n",
    "\n",
    "#tuner = EN.NNTuner(n_jobs=-1, cv=5, classifier=True)\n",
    "#tuner.fit(netmats, metadata)\n",
    "#\n",
    "\n"
   ]
  },
  {
   "cell_type": "code",
   "execution_count": 69,
   "metadata": {
    "collapsed": false
   },
   "outputs": [
    {
     "name": "stdout",
     "output_type": "stream",
     "text": [
      "(100, 18769)\n",
      "<bound method ElasticNet.decision_function of ElasticNet(alpha=0.1, copy_X=True, fit_intercept=True, l1_ratio=0.7,\n",
      "      max_iter=1000, normalize=False, positive=False, precompute=False,\n",
      "      random_state=None, selection='cyclic', tol=0.0001, warm_start=False)>\n",
      "0\n",
      "0.0\n"
     ]
    }
   ],
   "source": [
    "\"\"\"\n",
    "print tuner.grid.best_score_\n",
    "print tuner.grid.best_params_\n",
    "print tuner.grid.grid_scores_\n",
    "print tuner.forest\n",
    "print sum(metadata == 0)\n",
    "print 271 / 460.0\n",
    "\"\"\"\n",
    "#print tuner.fitted\n",
    "#print tuner.net.mse_path_.shape\n",
    "#print tuner.net.alpha_\n",
    "#print tuner.net.l1_ratio_\n",
    "\n",
    "from sklearn.linear_model import ElasticNet\n",
    "n = ElasticNet(alpha=0.1, l1_ratio=0.7)\n",
    "print netmats.shape\n",
    "n.fit(netmats, metadata)\n",
    "print n.decision_function\n",
    "print np.count_nonzero(n.coef_)\n",
    "print sum(n.coef_)\n",
    "#print sum(tuner.net.coef_)\n"
   ]
  },
  {
   "cell_type": "code",
   "execution_count": 25,
   "metadata": {
    "collapsed": false
   },
   "outputs": [
    {
     "name": "stdout",
     "output_type": "stream",
     "text": [
      "[[ 0.058321   0.058321  -0.0049142 ..., -0.026065  -0.0099609 -0.0099609]\n",
      " [ 0.10653    0.10653    0.0029018 ..., -0.050757  -0.030291  -0.030291 ]\n",
      " [-0.039421  -0.039421  -0.0099059 ..., -0.017947  -0.06231   -0.06231  ]\n",
      " ..., \n",
      " [ 0.038385   0.038385  -0.011769  ..., -0.034083  -0.044769  -0.044769 ]\n",
      " [ 0.010427   0.010427  -0.0070636 ...,  0.091595  -0.022923  -0.022923 ]\n",
      " [ 0.050278   0.050278  -0.0022997 ..., -0.093439  -0.010926  -0.010926 ]]\n",
      "[[ -1.11240000e-02  -1.11240000e-02  -3.90690000e-03 ...,  -1.73690000e-02\n",
      "   -4.81540000e-03  -4.81540000e-03]\n",
      " [  1.09340000e-02   1.09340000e-02  -4.88470000e-03 ...,  -1.92050000e-02\n",
      "   -1.90100000e-02  -1.90100000e-02]\n",
      " [ -3.84720000e-03  -3.84720000e-03  -4.64380000e-03 ...,  -1.26520000e-02\n",
      "   -1.72220000e-03  -1.72220000e-03]\n",
      " ..., \n",
      " [ -7.06940000e-03  -7.06940000e-03  -7.16840000e-03 ...,  -1.50290000e-02\n",
      "    7.78420000e-05   7.78420000e-05]\n",
      " [ -1.41870000e-02  -1.41870000e-02  -2.38170000e-03 ...,  -2.14080000e-02\n",
      "   -3.71670000e-03  -3.71670000e-03]\n",
      " [ -9.20840000e-03  -9.20840000e-03  -7.08120000e-03 ...,  -1.88640000e-02\n",
      "   -1.05620000e-02  -1.05620000e-02]]\n",
      "[[  4.33490000e-02   4.33490000e-02  -2.57000000e-03 ...,  -5.10650000e-03\n",
      "   -1.23680000e-02  -1.23680000e-02]\n",
      " [  4.87630000e-02   4.87630000e-02  -6.53300000e-03 ...,   4.04830000e-03\n",
      "   -3.83170000e-03  -3.83170000e-03]\n",
      " [  5.09140000e-02   5.09140000e-02  -7.57410000e-03 ...,   1.67730000e-02\n",
      "   -4.98420000e-03  -4.98420000e-03]\n",
      " ..., \n",
      " [  2.90430000e-01   2.90430000e-01  -2.15400000e-03 ...,   1.30170000e-02\n",
      "    1.30350000e-02   1.30350000e-02]\n",
      " [  1.09130000e-01   1.09130000e-01  -9.95170000e-03 ...,   1.24970000e-04\n",
      "   -2.86580000e-03  -2.86580000e-03]\n",
      " [  1.43760000e-01   1.43760000e-01  -6.86240000e-03 ...,   2.97460000e-03\n",
      "   -2.00740000e-02  -2.00740000e-02]]\n",
      "[[-0.0014035  -0.0014035  -0.003768   ..., -0.013527   -0.0021574\n",
      "  -0.0021574 ]\n",
      " [-0.0075721  -0.0075721  -0.0090376  ..., -0.015695    0.0079489\n",
      "   0.0079489 ]\n",
      " [-0.0090509  -0.0090509   0.00026959 ..., -0.015337    0.0042069\n",
      "   0.0042069 ]\n",
      " ..., \n",
      " [ 0.0072843   0.0072843  -0.0079043  ..., -0.010659   -0.011315   -0.011315  ]\n",
      " [ 0.014919    0.014919   -0.0020908  ..., -0.016995    0.0034978\n",
      "   0.0034978 ]\n",
      " [-0.0050803  -0.0050803   0.00063969 ..., -0.021867   -0.00080556\n",
      "  -0.00080556]]\n",
      "[[ 0.0062456   0.0062456  -0.017729   ..., -0.024365   -0.0084855\n",
      "  -0.0084855 ]\n",
      " [ 0.0085687   0.0085687   0.0015151  ..., -0.014019   -0.010092   -0.010092  ]\n",
      " [-0.0082744  -0.0082744   0.0022078  ..., -0.012317   -0.015402   -0.015402  ]\n",
      " ..., \n",
      " [-0.00038241 -0.00038241 -0.0023297  ..., -0.024901   -0.0073347\n",
      "  -0.0073347 ]\n",
      " [-0.0028169  -0.0028169  -0.016184   ..., -0.0043053  -0.013556   -0.013556  ]\n",
      " [-0.0038457  -0.0038457  -0.0099658  ..., -0.0083574  -0.01294    -0.01294   ]]\n",
      "[[ 0.0046275   0.0046275  -0.00079604 ..., -0.023524   -0.017809   -0.017809  ]\n",
      " [-0.0061431  -0.0061431  -0.0013426  ...,  0.0016828  -0.016851   -0.016851  ]\n",
      " [ 0.011109    0.011109   -0.00089087 ..., -0.0085024  -0.011369   -0.011369  ]\n",
      " ..., \n",
      " [-0.0065054  -0.0065054   0.0029867  ...,  0.0028414  -0.013687   -0.013687  ]\n",
      " [-0.0056415  -0.0056415  -0.002873   ..., -0.0081477  -0.0098928\n",
      "  -0.0098928 ]\n",
      " [ 0.00068268  0.00068268 -0.0055734  ..., -0.0077949  -0.015305   -0.015305  ]]\n",
      "[[-0.027822   -0.027822   -0.0024384  ..., -0.012315   -0.014909   -0.014909  ]\n",
      " [-0.00070403 -0.00070403  0.0078206  ...,  0.0043711  -0.0060812\n",
      "  -0.0060812 ]\n",
      " [-0.0097925  -0.0097925  -0.012337   ..., -0.017264   -0.0070121\n",
      "  -0.0070121 ]\n",
      " ..., \n",
      " [ 0.0051643   0.0051643  -0.0061329  ...,  0.0080511  -0.014407   -0.014407  ]\n",
      " [ 0.00062125  0.00062125 -0.022403   ...,  0.019534   -0.0081532\n",
      "  -0.0081532 ]\n",
      " [-0.010759   -0.010759    0.021639   ..., -0.0013605  -0.0058335\n",
      "  -0.0058335 ]]\n",
      "[[ -7.95440000e-03  -7.95440000e-03   1.25830000e-01 ...,  -7.51250000e-04\n",
      "   -1.24580000e-03  -1.24580000e-03]\n",
      " [ -8.51060000e-03  -8.51060000e-03   1.61600000e-02 ...,   7.63230000e-03\n",
      "   -1.42650000e-02  -1.42650000e-02]\n",
      " [ -1.10160000e-02  -1.10160000e-02   8.29970000e-02 ...,   7.98080000e-03\n",
      "   -1.15180000e-02  -1.15180000e-02]\n",
      " ..., \n",
      " [ -8.10440000e-03  -8.10440000e-03   7.33680000e-05 ...,   5.98640000e-03\n",
      "   -9.08010000e-03  -9.08010000e-03]\n",
      " [ -1.24780000e-02  -1.24780000e-02   6.50880000e-02 ...,   6.77430000e-04\n",
      "   -9.71440000e-03  -9.71440000e-03]\n",
      " [ -1.77240000e-02  -1.77240000e-02   2.04040000e-01 ...,   7.14160000e-04\n",
      "    5.02530000e-03   5.02530000e-03]]\n",
      "[[ 0.22164    0.22164   -0.017498  ..., -0.005732  -0.022167  -0.022167 ]\n",
      " [ 0.1466     0.1466    -0.011386  ..., -0.038391  -0.028009  -0.028009 ]\n",
      " [ 0.11718    0.11718    0.001381  ..., -0.015255  -0.01502   -0.01502  ]\n",
      " ..., \n",
      " [ 0.12109    0.12109    0.0056913 ...,  0.0034389 -0.016236  -0.016236 ]\n",
      " [ 0.2008     0.2008     0.0044586 ..., -0.026288  -0.019842  -0.019842 ]\n",
      " [ 0.12862    0.12862   -0.0014934 ..., -0.0034322 -0.027765  -0.027765 ]]\n",
      "[[-0.0030959 -0.0030959 -0.030999  ...,  0.0024625 -0.0049211 -0.0049211]\n",
      " [-0.0010974 -0.0010974  0.0077857 ...,  0.0016118 -0.011164  -0.011164 ]\n",
      " [-0.0019754 -0.0019754  0.019648  ...,  0.003441  -0.0072124 -0.0072124]\n",
      " ..., \n",
      " [-0.002262  -0.002262  -0.040253  ..., -0.014525  -0.0072356 -0.0072356]\n",
      " [-0.002187  -0.002187   0.0032672 ..., -0.018097  -0.0069715 -0.0069715]\n",
      " [-0.0034745 -0.0034745 -0.021527  ...,  0.01127   -0.004094  -0.004094 ]]\n"
     ]
    },
    {
     "name": "stderr",
     "output_type": "stream",
     "text": [
      "[Parallel(n_jobs=1)]: Done  10 out of  10 | elapsed: 36.3min finished\n"
     ]
    }
   ],
   "source": [
    "#Get Predictions or score\n",
    "from sklearn.cross_validation import cross_val_predict\n",
    "from sklearn.cross_validation import cross_val_score\n",
    "\n",
    "predictions = cross_val_predict(tuner, netmats, y=metadata, cv=10, verbose=2)"
   ]
  },
  {
   "cell_type": "code",
   "execution_count": 26,
   "metadata": {
    "collapsed": false
   },
   "outputs": [
    {
     "name": "stdout",
     "output_type": "stream",
     "text": [
      "(100,)\n",
      "[ 0.  1.  1.  0.  0.  1.  0. -0.  0.  1.  1.  1.  1. -0. -0.  0.  1.  1.\n",
      "  0.  1.  0.  0.  1.  0.  0.  0.  1.  0.  1.  0.  0.  0. -0.  1.  0. -0.\n",
      "  0.  1.  1.  0.  1.  0.  0.  0.  0.  0.  1.  0.  0.  0.  1.  0.  1.  0.\n",
      "  1.  1.  1.  0.  1.  0.  0.  1.  1.  1.  1.  0.  1.  0.  0.  1.  0.  1.\n",
      "  0.  0.  0.  1.  1.  1.  0. -0.  1.  0.  1.  0.  0.  0.  0.  1.  1.  1.\n",
      "  0.  1.  0.  1.  1.  0.  0. -0.  0.  0.]\n",
      "[0 1 1 1 0 1 0 0 0 1 0 1 1 0 0 0 1 1 0 1 0 0 1 1 0 1 1 1 0 0 0 0 0 1 0 0 1\n",
      " 1 0 0 0 0 1 0 0 1 1 0 0 0 1 0 0 0 1 1 1 0 1 0 0 1 1 1 1 0 0 1 0 1 0 1 0 0\n",
      " 0 1 1 1 0 1 1 0 1 0 0 0 0 0 1 1 1 0 0 1 1 1 0 0 1 0]\n",
      "0.8\n"
     ]
    }
   ],
   "source": [
    "from sklearn.metrics import accuracy_score\n",
    "from sklearn.metrics import r2_score\n",
    "print metadata.shape\n",
    "#print metadata\n",
    "#print predictions\n",
    "#print predictions\n",
    "rp = np.round(predictions)\n",
    "print rp\n",
    "print metadata\n",
    "print accuracy_score(rp, metadata)\n",
    "#print r2_score(predictions, metadata)\n"
   ]
  },
  {
   "cell_type": "code",
   "execution_count": null,
   "metadata": {
    "collapsed": true
   },
   "outputs": [],
   "source": []
  }
 ],
 "metadata": {
  "kernelspec": {
   "display_name": "Python 2",
   "language": "python",
   "name": "python2"
  },
  "language_info": {
   "codemirror_mode": {
    "name": "ipython",
    "version": 2
   },
   "file_extension": ".py",
   "mimetype": "text/x-python",
   "name": "python",
   "nbconvert_exporter": "python",
   "pygments_lexer": "ipython2",
   "version": "2.7.11+"
  }
 },
 "nbformat": 4,
 "nbformat_minor": 0
}

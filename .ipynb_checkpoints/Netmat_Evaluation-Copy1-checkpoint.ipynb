{
 "cells": [
  {
   "cell_type": "code",
   "execution_count": 1,
   "metadata": {
    "collapsed": false
   },
   "outputs": [],
   "source": [
    "from Predictors.ElasticNetTuner import ElasticNetTuner\n",
    "from Predictors.RandomForestTuner import RandomForestTuner\n",
    "from Predictors.NNTuner import NNTuner\n",
    "from DataLoader.MetadataHelper import *\n",
    "from DataLoader.utils import load_netmats\n",
    "from sklearn.preprocessing import LabelEncoder\n",
    "import numpy as np"
   ]
  },
  {
   "cell_type": "code",
   "execution_count": 2,
   "metadata": {
    "collapsed": false
   },
   "outputs": [
    {
     "name": "stdout",
     "output_type": "stream",
     "text": [
      "(460,)\n"
     ]
    }
   ],
   "source": [
    "#Load netmats and meta data\n",
    "metadata = load_patient_metadata('Data/joint_HCP_500_metadata.csv', subject_measures=[\"Gender\"])\n",
    "metadata = metadata.as_matrix()\n",
    "metadata = np.ravel(metadata)\n",
    "print metadata.shape\n",
    "le = LabelEncoder()\n",
    "metadata = le.fit_transform(metadata)\n",
    "netmats = load_netmats('/home/tadlington/bitbucket/HCP_500/HCP500_netmat460.txt')"
   ]
  },
  {
   "cell_type": "code",
   "execution_count": 7,
   "metadata": {
    "collapsed": false
   },
   "outputs": [
    {
     "name": "stdout",
     "output_type": "stream",
     "text": [
      "classifier\n",
      "classifier\n",
      "TODO fix lower limit for _gen_fine-intervals\n"
     ]
    }
   ],
   "source": [
    "#Create your Tuner\n",
    "\n",
    "tuner = RandomForestTuner(njobs=-1, cv=5, classifier=True)\n",
    "#\n",
    "tuner.fit(netmats, metadata)\n"
   ]
  },
  {
   "cell_type": "code",
   "execution_count": 12,
   "metadata": {
    "collapsed": false
   },
   "outputs": [
    {
     "name": "stdout",
     "output_type": "stream",
     "text": [
      "0.6\n",
      "RandomForestClassifier(bootstrap=True, class_weight=None, criterion='entropy',\n",
      "            max_depth=None, max_features=13, max_leaf_nodes=None,\n",
      "            min_samples_leaf=1, min_samples_split=2,\n",
      "            min_weight_fraction_leaf=0.0, n_estimators=128, n_jobs=1,\n",
      "            oob_score=False, random_state=30, verbose=0, warm_start=False)\n",
      "271\n",
      "0.589130434783\n"
     ]
    }
   ],
   "source": [
    "print tuner.grid.best_score_\n",
    "print tuner.forest\n",
    "print sum(metadata == 0)\n",
    "print 271 / 460.0"
   ]
  },
  {
   "cell_type": "code",
   "execution_count": 4,
   "metadata": {
    "collapsed": false
   },
   "outputs": [
    {
     "name": "stdout",
     "output_type": "stream",
     "text": [
      "classifier\n",
      "classifier\n",
      "TODO fix lower limit for _gen_fine-intervals\n",
      "predict\n",
      "classifier\n",
      "classifier\n",
      "TODO fix lower limit for _gen_fine-intervals\n",
      "predict\n"
     ]
    },
    {
     "name": "stderr",
     "output_type": "stream",
     "text": [
      "[Parallel(n_jobs=1)]: Done   2 out of   2 | elapsed:  6.1min finished\n"
     ]
    }
   ],
   "source": [
    "#Get Predictions or score\n",
    "from sklearn.cross_validation import cross_val_predict\n",
    "from sklearn.cross_validation import cross_val_score\n",
    "\n",
    "predictions = cross_val_predict(tuner, netmats, y=metadata, cv=5, verbose=3)"
   ]
  },
  {
   "cell_type": "code",
   "execution_count": 6,
   "metadata": {
    "collapsed": false
   },
   "outputs": [
    {
     "name": "stdout",
     "output_type": "stream",
     "text": [
      "(460,)\n",
      "0.576086956522\n"
     ]
    }
   ],
   "source": [
    "from sklearn.metrics import accuracy_score\n",
    "print metadata.shape\n",
    "#print metadata\n",
    "#print predictions\n",
    "print accuracy_score(predictions, metadata)\n"
   ]
  },
  {
   "cell_type": "code",
   "execution_count": null,
   "metadata": {
    "collapsed": true
   },
   "outputs": [],
   "source": []
  }
 ],
 "metadata": {
  "kernelspec": {
   "display_name": "Python 2",
   "language": "python",
   "name": "python2"
  },
  "language_info": {
   "codemirror_mode": {
    "name": "ipython",
    "version": 2
   },
   "file_extension": ".py",
   "mimetype": "text/x-python",
   "name": "python",
   "nbconvert_exporter": "python",
   "pygments_lexer": "ipython2",
   "version": "2.7.11+"
  }
 },
 "nbformat": 4,
 "nbformat_minor": 0
}

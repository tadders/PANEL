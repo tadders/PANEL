{
 "cells": [
  {
   "cell_type": "code",
   "execution_count": 18,
   "metadata": {
    "collapsed": false
   },
   "outputs": [],
   "source": [
    "import numpy as np\n",
    "from DataLoader.utils import load_netmats\n",
    "from DataLoader.utils import get_unique_edges\n",
    "from FSLNets.nets_glm import nets_glm\n",
    "from DataLoader.MetadataHelper import *\n",
    "from sklearn.preprocessing import LabelEncoder"
   ]
  },
  {
   "cell_type": "code",
   "execution_count": 2,
   "metadata": {
    "collapsed": true
   },
   "outputs": [],
   "source": [
    "# Set design and contrast files for glm\n",
    "des = \"/home/tadlington/designs/des100_sex_confound_mean.mat\"\n",
    "con = \"/home/tadlington/designs/des_sex_confound_mean.con\""
   ]
  },
  {
   "cell_type": "code",
   "execution_count": 28,
   "metadata": {
    "collapsed": false
   },
   "outputs": [],
   "source": [
    "fnets = load_netmats('/home/tadlington/fNETMATS/netmats-ridgereg-nozstat.txt')\n"
   ]
  },
  {
   "cell_type": "code",
   "execution_count": null,
   "metadata": {
    "collapsed": true
   },
   "outputs": [],
   "source": [
    "lnets = load_netmats('/home/tadlington/bitbucket/random/100307/L/fmri_dr/netmats/netmats-ridgereg-nozstat.txt')\n",
    "rnets = load_netmats('/home/tadlington/bitbucket/random/100307/R/fmri_dr/netmats/netmats-ridgereg-nozstat.txt')\n",
    "lnets = get_unique_edges(lnets)\n",
    "\n",
    "rnets = get_unique_edges(rnets)\n",
    "netmats = np.hstack((lnets, rnets))"
   ]
  },
  {
   "cell_type": "code",
   "execution_count": 19,
   "metadata": {
    "collapsed": false
   },
   "outputs": [
    {
     "name": "stdout",
     "output_type": "stream",
     "text": [
      "(100, 1)\n"
     ]
    }
   ],
   "source": [
    "subject_ids = [100307,100408,101107,101309,101915,103111,103414,\n",
    "                            103818,105014,105115,106016,108828,110411,111312,\n",
    "                            111716,113619,113922,114419,115320,116524,117122,\n",
    "                            118528,118730,118932,120111,122317,122620,123117,\n",
    "                            123925,124422,125525,126325,127630,127933,128127,\n",
    "                            128632,129028,130013,130316,131217,131722,133019,\n",
    "                            133928,135225,135932,136833,138534,139637,140925,\n",
    "                            144832,146432,147737,148335,148840,149337,149539,\n",
    "                            149741,151223,151526,151627,153025,154734,156637,159340,160123,161731,162733,163129,176542,178950,\n",
    "                            188347,189450,190031,192540,196750,198451,199655,\n",
    "                            201111,208226,211417,211720,212318,214423,221319,\n",
    "                            239944,245333,280739,298051,366446,397760,414229,\n",
    "                            499566,654754,672756,751348,756055,792564,856766,\n",
    "                            857263,899885]\n",
    "metadata = load_patient_metadata('../unrestricted_sofira_11_17_2015_6_15_1.csv', subject_measures=[\"Gender\"], subjects=subject_ids)\n",
    "print metadata.shape\n",
    "le = LabelEncoder()\n",
    "metadata = le.fit_transform(metadata[\"Gender\"].values)"
   ]
  },
  {
   "cell_type": "code",
   "execution_count": 4,
   "metadata": {
    "collapsed": false
   },
   "outputs": [
    {
     "name": "stdout",
     "output_type": "stream",
     "text": [
      "0\n",
      "\n"
     ]
    }
   ],
   "source": [
    "p_uncorrected, p_corrected, FDRThresh = nets_glm(netmats, des, con)"
   ]
  },
  {
   "cell_type": "code",
   "execution_count": 29,
   "metadata": {
    "collapsed": false
   },
   "outputs": [
    {
     "name": "stdout",
     "output_type": "stream",
     "text": [
      "0\n",
      "\n"
     ]
    }
   ],
   "source": [
    "fp_uncorrected, fp_corrected, FDRThresh = nets_glm(fnets, des, con)"
   ]
  },
  {
   "cell_type": "raw",
   "metadata": {},
   "source": [
    "print fnets"
   ]
  },
  {
   "cell_type": "code",
   "execution_count": 43,
   "metadata": {
    "collapsed": false
   },
   "outputs": [],
   "source": [
    "import Predictors.ElasticNetTuner as EN\n",
    "from sklearn.cross_validation import cross_val_predict\n",
    "from sklearn.metrics import accuracy_score\n",
    "\n",
    "def predict_var_num_features(features, metadata, feature_nums):\n",
    "    \"\"\"\n",
    "    :param: features = the features to predict with (Sorted in order of importance)\n",
    "    :param: metadata = measures to predict\n",
    "    :feature_nums: list like of number of features to use in each prediction:\n",
    "    returns dict of {feature_num: score}\n",
    "    \"\"\"\n",
    "    feature_num_scores = {}\n",
    "    for num in feature_nums:\n",
    "        print num\n",
    "        feats = features[:, 0:num]\n",
    "        tuner = EN.ElasticNetTuner(n_jobs=-1, cv =5)\n",
    "        predictions = cross_val_predict(tuner, feats, y=metadata, cv=10, verbose=2)\n",
    "        rp = np.round(predictions)\n",
    "        score = accuracy_score(rp, metadata)\n",
    "        print score\n",
    "        feature_num_scores[num] = score\n",
    "    return feature_num_scores\n",
    "        "
   ]
  },
  {
   "cell_type": "code",
   "execution_count": 91,
   "metadata": {
    "collapsed": false,
    "scrolled": true
   },
   "outputs": [
    {
     "name": "stdout",
     "output_type": "stream",
     "text": [
      "868\n",
      "18769\n",
      "250\n",
      "[[-0.01966   -0.029296   0.0085242 ..., -0.017969   0.0079079  0.018057 ]\n",
      " [ 0.002977  -0.034053  -0.0030621 ..., -0.06963   -0.027727   0.0075261]\n",
      " [-0.033782  -0.021707  -0.0082871 ...,  0.0064345 -0.043933  -0.01163  ]\n",
      " ..., \n",
      " [-0.031204  -0.0025712 -0.0048705 ..., -0.036461   0.0053274  0.0061473]\n",
      " [ 0.02372   -0.015543  -0.012474  ..., -0.017747  -0.021119   0.014756 ]\n",
      " [-0.0067206 -0.014194  -0.023734  ...,  0.040861  -0.0080153 -0.0029892]]\n",
      "[[-0.030095   0.0073502 -0.013832  ..., -0.00735   -0.025133   0.012709 ]\n",
      " [-0.041871  -0.017115  -0.032078  ..., -0.013927  -0.020656  -0.0047494]\n",
      " [-0.061441   0.0046133 -0.015056  ..., -0.058942  -0.023468   0.017212 ]\n",
      " ..., \n",
      " [ 0.01341   -0.039928  -0.021497  ..., -0.02438   -0.0034902  0.020525 ]\n",
      " [-0.04857    0.0048346  0.0015383 ..., -0.0216    -0.015901  -0.0010471]\n",
      " [-0.044126  -0.034189  -0.046579  ...,  0.021706  -0.011837  -0.015152 ]]\n",
      "[[-0.0049108  -0.07639    -0.0058779  ..., -0.011367   -0.0133     -0.013626  ]\n",
      " [-0.028246   -0.071507   -0.0050071  ..., -0.055025   -0.0023376   0.016473  ]\n",
      " [ 0.0079676  -0.020169   -0.0090767  ..., -0.046482    0.015758\n",
      "   0.00072944]\n",
      " ..., \n",
      " [-0.013581   -0.0358     -0.048682   ..., -0.031851   -0.044131   -0.0023518 ]\n",
      " [-0.015896   -0.01715    -0.0091583  ...,  0.011295    0.017023    0.013572  ]\n",
      " [-0.0013143  -0.053388    0.00066983 ...,  0.026231    0.00039909\n",
      "   0.0032647 ]]\n",
      "[[-0.052367   0.020147  -0.015885  ..., -0.020858  -0.030392  -0.030439 ]\n",
      " [-0.069731   0.0034559 -0.001166  ...,  0.0088802 -0.0095335  0.016168 ]\n",
      " [-0.017478  -0.0084243  0.0049401 ..., -0.033109  -0.033101  -0.013051 ]\n",
      " ..., \n",
      " [-0.05165    0.010556   0.010586  ..., -0.033479  -0.043903   0.0083243]\n",
      " [-0.031045   0.031447  -0.0098043 ..., -0.025605  -0.0092967  0.0032624]\n",
      " [-0.04965   -0.0073986 -0.0090106 ..., -0.0017613 -0.020463   0.01711  ]]\n",
      "[[-0.00028109 -0.053339   -0.094886   ..., -0.036506    0.030447   -0.026954  ]\n",
      " [-0.038594   -0.040974   -0.065727   ..., -0.022809    0.0066329  -0.029338  ]\n",
      " [-0.033249   -0.018501   -0.036371   ..., -0.023238    0.048384   -0.029932  ]\n",
      " ..., \n",
      " [-0.078067   -0.0050971  -0.064426   ..., -0.007662    0.017119   -0.050821  ]\n",
      " [-0.074935   -0.0059329  -0.073748   ..., -0.024898    0.0096759  -0.059917  ]\n",
      " [-0.04781     0.0077835  -0.04155    ...,  0.0099904   0.036239   -0.014865  ]]\n",
      "[[ 0.032811   -0.06973    -0.048236   ...,  0.014131   -0.0019033\n",
      "   0.0087138 ]\n",
      " [-0.021566   -0.046609   -0.0056826  ...,  0.050167   -0.0064676  -0.018364  ]\n",
      " [ 0.021671   -0.029204    0.026771   ...,  0.03684     0.012015    0.038215  ]\n",
      " ..., \n",
      " [-0.0089009  -0.038216   -0.0010478  ...,  0.024895   -0.010576    0.0082806 ]\n",
      " [-0.028049   -0.054705   -0.017156   ...,  0.016836   -0.025188   -0.01367   ]\n",
      " [-0.019864   -0.05216    -0.00085985 ..., -0.040201    0.0026745   0.01539   ]]\n",
      "[[-0.053251  -0.013466  -0.051224  ..., -0.03983    0.069419  -0.045736 ]\n",
      " [-0.0087603 -0.013672  -0.038477  ...,  0.0074047  0.068697  -0.067359 ]\n",
      " [-0.009385  -0.019706  -0.0037053 ...,  0.020486   0.088198   0.032052 ]\n",
      " ..., \n",
      " [-0.023663  -0.020952  -0.048884  ...,  0.0021679  0.039225  -0.03094  ]\n",
      " [ 0.0022718 -0.0036984 -0.096831  ..., -0.013438   0.073863  -0.025734 ]\n",
      " [-0.021249  -0.010463  -0.020166  ..., -0.027228   0.036482  -0.03364  ]]\n",
      "[[-0.0046351  -0.040797   -0.013945   ...,  0.017222   -0.032757    0.01928   ]\n",
      " [-0.024085   -0.014223   -0.0090344  ...,  0.036329   -0.0034968   0.054241  ]\n",
      " [-0.0033263  -0.020735    0.034244   ...,  0.039804   -0.024164    0.0022866 ]\n",
      " ..., \n",
      " [ 0.0056505  -0.032696   -0.042044   ...,  0.0056899  -0.00012458  0.02438   ]\n",
      " [ 0.0047512  -0.011666   -0.052684   ...,  0.016848   -0.024421    0.036474  ]\n",
      " [-0.024555   -0.025963   -0.026984   ..., -0.010637   -0.035273    0.06663   ]]\n",
      "[[-0.013438   -0.026236   -0.039746   ...,  0.024702   -0.031171    0.013784  ]\n",
      " [-0.016994   -0.046055   -0.0070579  ...,  0.019212    0.022752   -0.0058889 ]\n",
      " [-0.0075809  -0.014734    0.006169   ..., -0.00054655 -0.018444   -0.024355  ]\n",
      " ..., \n",
      " [ 0.0071788  -0.010344   -0.015753   ...,  0.0080886   0.010537    0.0023337 ]\n",
      " [ 0.017745   -0.0059317  -0.025514   ...,  0.011425   -0.0094409  -0.031595  ]\n",
      " [-0.014596   -0.02114    -0.028253   ..., -0.058003    0.0018252   0.030358  ]]\n",
      "[[ 0.014119    0.020237   -0.016778   ..., -0.0078867   0.017148   -0.029712  ]\n",
      " [-0.061046   -0.056348   -0.019794   ..., -0.025898   -0.033617   -0.010997  ]\n",
      " [-0.034964   -0.038252   -0.0091075  ...,  0.00040589 -0.029763    0.045637  ]\n",
      " ..., \n",
      " [-0.037142   -0.042749    0.0091127  ..., -0.030412    0.033547   -0.030682  ]\n",
      " [-0.012995   -0.041054   -0.045719   ..., -0.0077682  -0.036108   -0.017054  ]\n",
      " [-0.10153    -0.024039   -0.011276   ...,  0.013802    0.019482    0.0082924 ]]\n",
      "0.55\n",
      "750\n"
     ]
    },
    {
     "name": "stderr",
     "output_type": "stream",
     "text": [
      "[Parallel(n_jobs=1)]: Done  10 out of  10 | elapsed:   11.6s finished\n"
     ]
    },
    {
     "name": "stdout",
     "output_type": "stream",
     "text": [
      "[[-0.00079179 -0.011514   -0.0051515  ...,  0.0079079   0.018057   -0.005908  ]\n",
      " [ 0.014754   -0.0090913  -0.063397   ..., -0.027727    0.0075261  -0.016737  ]\n",
      " [-0.00060395 -0.014449   -0.066175   ..., -0.043933   -0.01163     0.033894  ]\n",
      " ..., \n",
      " [ 0.05588    -0.025408   -0.0611     ...,  0.0053274   0.0061473  -0.016044  ]\n",
      " [ 0.016042    0.02895    -0.083367   ..., -0.021119    0.014756    0.014508  ]\n",
      " [-0.03187     0.0012944  -0.046067   ..., -0.0080153  -0.0029892  -0.010975  ]]\n",
      "[[ -1.90270000e-03   8.55350000e-02   4.34760000e-02 ...,   1.71610000e-02\n",
      "   -1.87740000e-04  -7.88570000e-03]\n",
      " [  4.18330000e-02   5.74130000e-02   6.91260000e-02 ...,   1.11060000e-02\n",
      "   -4.30110000e-02   8.02150000e-03]\n",
      " [  5.14860000e-03   1.17810000e-01   5.29660000e-02 ...,  -1.38350000e-02\n",
      "   -6.54840000e-02   2.27650000e-02]\n",
      " ..., \n",
      " [  4.99280000e-02   1.01190000e-01   2.11180000e-02 ...,  -2.42030000e-02\n",
      "   -7.35360000e-02   3.20290000e-02]\n",
      " [  2.07410000e-02   9.28460000e-02   9.04300000e-04 ...,  -1.02760000e-02\n",
      "   -7.52280000e-02   1.61260000e-02]\n",
      " [  6.11190000e-03   2.11900000e-01   3.84960000e-02 ...,   1.83850000e-02\n",
      "   -3.80680000e-02   9.93950000e-03]]\n",
      "[[-0.068283    0.012698   -0.05518    ..., -0.078377   -0.013626   -0.035842  ]\n",
      " [-0.0069086   0.023365   -0.022628   ..., -0.097202    0.016473   -0.018968  ]\n",
      " [-0.035954    0.0011274   0.041477   ..., -0.066572    0.00072944\n",
      "  -0.014282  ]\n",
      " ..., \n",
      " [-0.019402    0.0067769  -0.051917   ..., -0.079291   -0.0023518\n",
      "  -0.0070392 ]\n",
      " [-0.011188   -0.013868   -0.028563   ..., -0.016486    0.013572    0.0083643 ]\n",
      " [-0.043734    0.018325   -0.04259    ..., -0.0050034   0.0032647\n",
      "   0.0018413 ]]\n",
      "[[  8.69610000e-03  -5.23670000e-02  -4.43350000e-03 ...,  -7.64130000e-03\n",
      "   -9.85300000e-03   1.75760000e-02]\n",
      " [  3.27850000e-02  -6.97310000e-02   3.52640000e-02 ...,  -1.71090000e-02\n",
      "    2.44240000e-02   2.61320000e-02]\n",
      " [  1.70510000e-02  -1.74780000e-02   2.42280000e-02 ...,  -1.52770000e-02\n",
      "   -5.50700000e-05  -2.39570000e-03]\n",
      " ..., \n",
      " [ -5.10930000e-03  -5.16500000e-02   3.47250000e-02 ...,  -2.56450000e-03\n",
      "   -3.34990000e-02  -1.17700000e-02]\n",
      " [  8.05300000e-03  -3.10450000e-02   8.03620000e-02 ...,  -5.48760000e-03\n",
      "   -4.15360000e-02   2.10660000e-02]\n",
      " [  1.94290000e-02  -4.96500000e-02   4.06910000e-02 ...,  -4.83160000e-03\n",
      "   -6.04270000e-03   2.22950000e-02]]\n",
      "[[ 0.0146     -0.01457    -0.016348   ...,  0.034827    0.0062391   0.030447  ]\n",
      " [-0.0040777   0.016466   -0.060902   ...,  0.03969     0.0057876\n",
      "   0.0066329 ]\n",
      " [ 0.016996   -0.0016934  -0.081565   ...,  0.03137     0.013781    0.048384  ]\n",
      " ..., \n",
      " [ 0.00039646  0.077746    0.029672   ...,  0.0035077   0.011264    0.017119  ]\n",
      " [ 0.023755    0.010144   -0.047916   ..., -0.068987   -0.017424    0.0096759 ]\n",
      " [-0.0019618   0.00049859 -0.039403   ...,  0.0073452   0.037032    0.036239  ]]\n",
      "[[ 0.032811    0.011382   -0.049071   ..., -0.092917    0.031928    0.045304  ]\n",
      " [-0.021566    0.10044     0.020832   ..., -0.052582   -0.0037768   0.052293  ]\n",
      " [ 0.021671    0.021387   -0.037536   ..., -0.06431    -0.016876    0.034929  ]\n",
      " ..., \n",
      " [-0.0089009   0.051902   -0.066471   ..., -0.060253    0.023113    0.013484  ]\n",
      " [-0.028049    0.066759   -0.0048223  ..., -0.071646   -0.0061477\n",
      "  -0.00061439]\n",
      " [-0.019864    0.037253    0.009278   ..., -0.017095    0.039854    0.0052427 ]]\n",
      "[[ 0.0075932  -0.021944    0.020579   ..., -0.0030113  -0.023764    0.013855  ]\n",
      " [ 0.0034102   0.013084    0.003208   ..., -0.010568   -0.00085348\n",
      "   0.010537  ]\n",
      " [ 0.013095   -0.026818   -0.0084627  ...,  0.00298    -0.040715   -0.0089941 ]\n",
      " ..., \n",
      " [ 0.016745   -0.035721    0.0034853  ...,  0.024229    0.0072619  -0.030946  ]\n",
      " [ 0.024007   -0.014444   -0.0035599  ...,  0.014226   -0.023652    0.028064  ]\n",
      " [ 0.015332   -0.075395   -0.0061605  ..., -0.011055    0.013119   -0.062496  ]]\n",
      "[[-0.0060324   0.014007   -0.018812   ...,  0.060761   -0.0023448   0.019062  ]\n",
      " [ 0.051562    0.0030939  -0.02407    ...,  0.13277    -0.050062    0.061632  ]\n",
      " [ 0.017893    0.048263    0.025409   ...,  0.12501     0.023637    0.024036  ]\n",
      " ..., \n",
      " [ 0.017061    0.0036189  -0.0087189  ...,  0.062353   -0.016927    0.033634  ]\n",
      " [ 0.05038    -0.055733   -0.0023308  ...,  0.10881     0.00061765\n",
      "   0.047073  ]\n",
      " [-0.0084688  -0.020502   -0.023103   ...,  0.07748    -0.095402    0.067031  ]]\n",
      "[[-0.0042626   0.065434   -0.013438   ...,  0.019035   -0.015132   -0.017733  ]\n",
      " [-0.004122    0.016567   -0.016994   ..., -0.0026351  -0.016156   -0.010202  ]\n",
      " [-0.0077429   0.093848   -0.0075809  ..., -0.014856    0.010081   -0.058272  ]\n",
      " ..., \n",
      " [ 0.012084    0.064951    0.0071788  ..., -0.051281   -0.032614   -0.025099  ]\n",
      " [ 0.0067304   0.016416    0.017745   ..., -0.0037082   0.040468\n",
      "  -0.00048146]\n",
      " [ 0.021553    0.008569   -0.014596   ...,  0.016065    0.023263    0.026173  ]]\n",
      "[[-0.0070646   0.0045554  -0.003979   ..., -0.04789     0.0025774\n",
      "   0.0025774 ]\n",
      " [ 0.032501    0.00061457  0.03101    ..., -0.062897    0.0098977\n",
      "   0.0098977 ]\n",
      " [ 0.053417    0.0090506  -0.012659   ..., -0.06762    -0.010411   -0.010411  ]\n",
      " ..., \n",
      " [ 0.0099175  -0.028631   -0.016959   ...,  0.0020188  -0.0016619\n",
      "  -0.0016619 ]\n",
      " [ 0.010407    0.0096094   0.0038181  ..., -0.010956    0.0082757\n",
      "   0.0082757 ]\n",
      " [ 0.0061657  -0.0049725   0.0018167  ..., -0.024948    0.020115    0.020115  ]]\n",
      "0.73\n"
     ]
    },
    {
     "name": "stderr",
     "output_type": "stream",
     "text": [
      "[Parallel(n_jobs=1)]: Done  10 out of  10 | elapsed:   13.1s finished\n"
     ]
    }
   ],
   "source": [
    "from Feature_Analysis.EdgeUtils import get_top_n_features\n",
    "#Get sorted indices of most important features\n",
    "print sum(sum(fp_uncorrected > 0.95))\n",
    "fnum_edges = fnets.shape[1]\n",
    "print fnum_edges\n",
    "ftop_indices, scores = get_top_n_features(fp_corrected, fnum_edges)\n",
    "ffeatures = fnets[:, ftop_indices]\n",
    "ffeature_nums = [10, 25,50, 100, 250, 500, 750, 1000, 2500, 5000, 7500, 10000, 15000, num_edges]\n",
    "#num_scores = predict_var_num_features(features, metadata, feature_nums)\n",
    "#fnum_scores = predict_var_num_features(ffeatures, metadata, ffeature_nums)\n",
    "fs = predict_var_num_features(ffeatures, metadata, [250, 750])\n"
   ]
  },
  {
   "cell_type": "code",
   "execution_count": 90,
   "metadata": {
    "collapsed": false,
    "scrolled": true
   },
   "outputs": [
    {
     "name": "stdout",
     "output_type": "stream",
     "text": [
      "1063\n",
      "22650\n",
      "250\n",
      "[[-0.00093359 -0.018644   -0.0010322  ...,  0.018975    0.0014616  -0.024433  ]\n",
      " [-0.023225   -0.0039164   0.038931   ...,  0.002157   -0.023203    0.028014  ]\n",
      " [-0.038957    0.014346    0.01304    ...,  0.0084325   0.058666   -0.031799  ]\n",
      " ..., \n",
      " [ 0.015555   -0.038608    0.016312   ...,  0.0063112   0.061126   -0.015439  ]\n",
      " [-0.0076286   0.016638    0.02941    ...,  0.040947    0.021119    0.0095547 ]\n",
      " [ 0.0033063  -0.0048604   0.040682   ...,  0.023012    0.1205      0.0017745 ]]\n",
      "[[-0.022526    0.017107    0.065382   ...,  0.0048583   0.0033411   0.011901  ]\n",
      " [-0.02383     0.058038    0.05987    ..., -0.010702    0.027533   -0.030418  ]\n",
      " [-0.048545    0.055596    0.047593   ...,  0.02802     0.00084569\n",
      "   0.013441  ]\n",
      " ..., \n",
      " [-0.012575   -0.028509    0.035094   ..., -0.0017676  -0.027593    0.033025  ]\n",
      " [-0.0074254   0.027951    0.035628   ...,  0.032741   -0.023875    0.012477  ]\n",
      " [-0.04931     0.017708    0.068257   ...,  0.00053544  0.010895    0.0093655 ]]\n",
      "[[-0.008823   -0.035657    0.33655    ...,  0.054723    0.011048    0.0042331 ]\n",
      " [-0.051699   -0.0032256   0.16999    ...,  0.01737     0.032142    0.024431  ]\n",
      " [-0.00066002  0.017927    0.18938    ...,  0.04354     0.036187   -0.014291  ]\n",
      " ..., \n",
      " [ 0.0047396   0.036531    0.12755    ...,  0.064306    0.030597\n",
      "   0.00052241]\n",
      " [ 0.0037689  -0.016391    0.20023    ...,  0.0010237  -0.013245    0.016081  ]\n",
      " [ 0.0036195  -0.01843     0.11346    ...,  0.0088163   0.032474    0.014298  ]]\n",
      "[[ 0.03746     0.036352    0.018511   ...,  0.015388    0.095197   -0.014332  ]\n",
      " [-0.0013173   0.0095943  -0.012678   ..., -0.011748    0.11593     0.047583  ]\n",
      " [ 0.03086    -0.011459   -0.0012463  ...,  0.014345    0.09707     0.0065798 ]\n",
      " ..., \n",
      " [ 0.0023588   0.0062032   0.014576   ..., -0.017982    0.1879     -0.015948  ]\n",
      " [-0.015448    0.011062   -0.012834   ...,  0.02725     0.047257    0.01541   ]\n",
      " [-0.021219    0.019497   -0.00019466 ...,  0.0020391   0.11384     0.0029122 ]]\n",
      "[[-0.0073947  -0.0028893   0.024622   ...,  0.016346   -0.033429    0.015351  ]\n",
      " [ 0.016187    0.018503    0.033528   ...,  0.021879    0.0787     -0.005684  ]\n",
      " [ 0.02674     0.010178    0.061161   ...,  0.033068    0.00067104\n",
      "   0.0070552 ]\n",
      " ..., \n",
      " [-0.0054598   0.0014131   0.10506    ..., -0.05516     0.01903    -0.0035292 ]\n",
      " [-0.0015247   0.0066032   0.010907   ..., -0.03714     0.032781    0.0022985 ]\n",
      " [ 0.02116     0.019101   -0.027397   ...,  0.0086204  -0.031522\n",
      "  -0.00071378]]\n",
      "[[ 0.020971    0.02946    -0.023819   ..., -0.06075    -0.032803    0.0079564 ]\n",
      " [ 0.031595   -0.03034     0.011493   ...,  0.012974    0.010331    0.0024344 ]\n",
      " [ 0.0036145  -0.023944    0.0040287  ..., -0.0029627  -0.020996    0.016388  ]\n",
      " ..., \n",
      " [ 0.11394    -0.0065431   0.032257   ...,  0.034377   -0.060838    0.0043631 ]\n",
      " [ 0.035281    0.030705   -0.011868   ..., -0.047127   -0.072092\n",
      "   0.00073306]\n",
      " [ 0.02421    -0.020845    0.013347   ...,  0.011217   -0.024726   -0.010642  ]]\n",
      "[[ 0.11184     0.031095    0.16966    ...,  0.021583    0.0052876   0.044735  ]\n",
      " [-0.060122    0.030687    0.1299     ...,  0.010263    0.014077   -0.0070864 ]\n",
      " [-0.010175    0.033956    0.074145   ...,  0.017839    0.021756    0.0044107 ]\n",
      " ..., \n",
      " [ 0.03815    -0.019552    0.00053245 ..., -0.00056655 -0.0016259\n",
      "   0.0025837 ]\n",
      " [-0.0071273  -0.020321    0.067584   ..., -0.047522   -0.014253   -0.021554  ]\n",
      " [-0.030558   -0.010532    0.21492    ...,  0.02781     0.00548    -0.020302  ]]\n",
      "[[ 0.02409     0.0019968  -0.012633   ...,  0.020599    0.013985    0.023416  ]\n",
      " [ 0.1068      0.0087553  -0.014277   ..., -0.039728   -0.0023037\n",
      "   0.0038259 ]\n",
      " [ 0.074714   -0.018336   -0.0069119  ..., -0.024754    0.0035999   0.025072  ]\n",
      " ..., \n",
      " [ 0.013307    0.012801   -0.00099439 ...,  0.012143    0.0088298  -0.032265  ]\n",
      " [ 0.0090039   0.022729    0.04143    ...,  0.013722   -0.021427    0.023866  ]\n",
      " [ 0.056865   -0.0022679  -0.0028381  ...,  0.018638    0.0023837   0.029918  ]]\n",
      "[[ 0.042787    0.030983    0.17241    ..., -0.012288   -0.035497   -0.0020677 ]\n",
      " [ 0.056961    0.0102      0.08086    ..., -0.051937   -0.018863   -0.045137  ]\n",
      " [-0.012388   -0.00043759  0.14147    ...,  0.0097058  -0.018397    0.045528  ]\n",
      " ..., \n",
      " [ 0.012631    0.0012648   0.21709    ..., -0.0010925  -0.077435   -0.010958  ]\n",
      " [ 0.019175    0.045081    0.19685    ...,  0.0083776  -0.00039568\n",
      "  -0.012566  ]\n",
      " [ 0.0011344   0.0014668   0.17913    ..., -0.0038606  -0.061721    0.065469  ]]\n",
      "[[-0.010897   0.011861   0.023148  ..., -0.007873   0.002074   0.0082335]\n",
      " [-0.019621   0.024466  -0.007554  ..., -0.044902   0.010984   0.028279 ]\n",
      " [ 0.0031348  0.13162    0.031658  ...,  0.028576  -0.0090423  0.0018261]\n",
      " ..., \n",
      " [ 0.018595   0.09252    0.055906  ...,  0.0048135  0.024512   0.029878 ]\n",
      " [-0.0010887  0.19976    0.027314  ..., -0.005674  -0.0055346  0.017185 ]\n",
      " [ 0.01146    0.18583    0.013358  ...,  0.010116  -0.010301  -0.0012953]]\n",
      "0.53\n",
      "750\n"
     ]
    },
    {
     "name": "stderr",
     "output_type": "stream",
     "text": [
      "[Parallel(n_jobs=1)]: Done  10 out of  10 | elapsed:   10.0s finished\n"
     ]
    },
    {
     "name": "stdout",
     "output_type": "stream",
     "text": [
      "[[-0.0064334   0.0070902  -0.00093359 ...,  0.016892    0.035595    0.0079692 ]\n",
      " [ 0.036999   -0.017865   -0.023225   ..., -0.0096552  -0.02147     0.024779  ]\n",
      " [ 0.021086   -0.025946   -0.038957   ...,  0.017227   -0.017059    0.0083447 ]\n",
      " ..., \n",
      " [ 0.0046614   0.004739    0.015555   ..., -0.0030498   0.0060832   0.014195  ]\n",
      " [ 0.0018414  -0.010265   -0.0076286  ...,  0.02388     0.012672   -0.0055755 ]\n",
      " [-0.013808   -0.0062535   0.0033063  ...,  0.024698   -0.0065779  -0.013766  ]]\n",
      "[[-0.019309   0.0030824  0.0051251 ..., -0.036075   0.0014493  0.068314 ]\n",
      " [ 0.019107  -0.015761  -0.016962  ...,  0.019824  -0.042778  -0.014411 ]\n",
      " [ 0.0306    -0.0054692  0.0028643 ..., -0.043437  -0.07691    0.12931  ]\n",
      " ..., \n",
      " [ 0.0059387  0.024707  -0.026728  ...,  0.019898   0.0035084  0.029841 ]\n",
      " [-0.001122  -0.0040291 -0.0053057 ...,  0.0017566 -0.0083554  0.049567 ]\n",
      " [-0.0020338 -0.022497   0.0057695 ...,  0.0073219 -0.020891   0.015982 ]]\n",
      "[[ 0.010342   -0.008823    0.017043   ..., -0.0035427  -0.0040728  -0.017462  ]\n",
      " [-0.0056646  -0.051699    0.01078    ...,  0.01229     0.014966   -0.0046127 ]\n",
      " [-0.027079   -0.00066002  0.0029032  ..., -0.0064134  -0.01676    -0.0042732 ]\n",
      " ..., \n",
      " [-0.0054484   0.0047396  -0.01086    ...,  0.0079024   0.02329     0.0080565 ]\n",
      " [-0.016089    0.0037689  -0.0041194  ..., -0.033126   -0.00059613\n",
      "  -0.0018596 ]\n",
      " [ 0.0018108   0.0036195   0.061405   ..., -0.014716    0.075981    0.022274  ]]\n",
      "[[ -2.91760000e-02   3.02450000e-03   3.74600000e-02 ...,  -4.00520000e-03\n",
      "    2.58840000e-02  -9.68430000e-04]\n",
      " [  2.88320000e-02   2.49610000e-02  -1.31730000e-03 ...,   1.86000000e-02\n",
      "   -1.72940000e-02  -9.98640000e-05]\n",
      " [  3.21540000e-02   1.08620000e-02   3.08600000e-02 ...,   2.71340000e-02\n",
      "   -3.16320000e-02  -3.42640000e-03]\n",
      " ..., \n",
      " [ -2.45070000e-02  -1.20760000e-02   2.35880000e-03 ...,  -8.49420000e-03\n",
      "    2.56140000e-02   2.67870000e-02]\n",
      " [  1.90720000e-02  -8.46990000e-03  -1.54480000e-02 ...,   3.84330000e-03\n",
      "   -1.34700000e-02  -8.35640000e-03]\n",
      " [  1.87180000e-02  -1.06630000e-02  -2.12190000e-02 ...,  -1.92620000e-03\n",
      "   -2.33550000e-02   2.92730000e-02]]\n",
      "[[ -1.93230000e-02  -7.39470000e-03   1.04390000e-03 ...,  -1.00910000e-02\n",
      "    6.82910000e-02   1.21020000e-02]\n",
      " [ -7.61420000e-03   1.61870000e-02  -7.11360000e-03 ...,  -1.43840000e-02\n",
      "   -2.85570000e-02   2.69510000e-02]\n",
      " [ -6.74960000e-03   2.67400000e-02  -4.07980000e-02 ...,   6.08010000e-03\n",
      "    2.22420000e-03  -2.03330000e-02]\n",
      " ..., \n",
      " [  2.92120000e-02  -5.45980000e-03  -9.91970000e-03 ...,  -3.76980000e-03\n",
      "    7.51150000e-03  -4.53700000e-05]\n",
      " [ -1.57120000e-02  -1.52470000e-03   4.55430000e-03 ...,   1.46690000e-02\n",
      "    2.87810000e-03  -4.35230000e-02]\n",
      " [  6.46690000e-05   2.11600000e-02   3.24250000e-03 ...,  -2.54460000e-03\n",
      "    2.45120000e-02   2.62520000e-02]]\n",
      "[[ 0.020971    0.031013    0.0074828  ..., -0.021859    0.0079564\n",
      "   0.0072992 ]\n",
      " [ 0.031595   -0.00042094  0.02936    ...,  0.070397    0.0024344  -0.001216  ]\n",
      " [ 0.0036145   0.022264   -0.00036311 ...,  0.019262    0.016388   -0.023393  ]\n",
      " ..., \n",
      " [ 0.11394     0.11104     0.019379   ...,  0.042746    0.0043631  -0.012828  ]\n",
      " [ 0.035281    0.020981    0.01742    ...,  0.01342     0.00073306\n",
      "  -0.0026657 ]\n",
      " [ 0.02421     0.043329   -0.010014   ...,  0.0025127  -0.010642    0.024174  ]]\n",
      "[[ 0.043617   0.012569   0.010357  ..., -0.035693  -0.0080768  0.084263 ]\n",
      " [ 0.0096913  0.013274   0.018409  ...,  0.14643    0.0048584  0.014203 ]\n",
      " [ 0.053202   0.0051651 -0.022482  ..., -0.0064158  0.0090838  0.001714 ]\n",
      " ..., \n",
      " [-0.0097079  0.0029804 -0.033857  ...,  0.070254  -0.011473   0.022289 ]\n",
      " [-0.026317  -0.016814   0.0062923 ...,  0.074599  -0.010845  -0.0054117]\n",
      " [-0.0062555  0.025089   0.010011  ..., -0.088181   0.0076142  0.0045596]]\n",
      "[[  6.61190000e-03  -8.68410000e-03   2.40900000e-02 ...,   1.24530000e-02\n",
      "    5.15460000e-02  -3.74660000e-02]\n",
      " [ -2.39390000e-02  -9.50150000e-03   1.06800000e-01 ...,  -6.35320000e-03\n",
      "    7.43180000e-02   5.35730000e-02]\n",
      " [  6.87810000e-03  -2.86140000e-05   7.47140000e-02 ...,  -1.53930000e-02\n",
      "    3.42220000e-02  -1.01380000e-02]\n",
      " ..., \n",
      " [  2.23790000e-02   2.50050000e-02   1.33070000e-02 ...,   2.03210000e-02\n",
      "    4.63610000e-02   4.59840000e-02]\n",
      " [  2.47010000e-02  -2.97750000e-02   9.00390000e-03 ...,  -8.10900000e-03\n",
      "    1.98630000e-02  -1.23500000e-03]\n",
      " [ -1.64070000e-02  -1.49770000e-02   5.68650000e-02 ...,  -3.44630000e-02\n",
      "    2.70880000e-02  -4.20870000e-02]]\n",
      "[[-0.014532  -0.010416   0.042787  ...,  0.059578   0.072897   0.061107 ]\n",
      " [ 0.014295   0.00378    0.056961  ...,  0.0067489  0.11561    0.026931 ]\n",
      " [-0.0079455 -0.0099301 -0.012388  ...,  0.018686   0.023603  -0.038538 ]\n",
      " ..., \n",
      " [-0.031597  -0.0026987  0.012631  ...,  0.0096207  0.10237    0.034654 ]\n",
      " [ 0.0034587 -0.024146   0.019175  ...,  0.045112   0.082464  -0.015622 ]\n",
      " [-0.0068579 -0.0053212  0.0011344 ...,  0.06349    0.068618   0.047617 ]]\n",
      "[[-0.025972    0.011856   -0.015749   ...,  0.0022474  -0.0010132\n",
      "  -0.0012868 ]\n",
      " [-0.013168    0.00015489 -0.0027842  ..., -0.014373    0.058922   -0.020376  ]\n",
      " [ 0.015902   -0.017705    0.0097009  ...,  0.028054   -0.017971   -0.0071491 ]\n",
      " ..., \n",
      " [ 0.01431     0.0082877   0.0077322  ...,  0.0046887   0.00052027\n",
      "   0.035261  ]\n",
      " [-0.025993    0.025824    0.024994   ...,  0.012112    0.022115   -0.028843  ]\n",
      " [-0.015308    0.031868    0.0088575  ..., -0.021644   -0.015462    0.043071  ]]\n",
      "0.61\n"
     ]
    },
    {
     "name": "stderr",
     "output_type": "stream",
     "text": [
      "[Parallel(n_jobs=1)]: Done  10 out of  10 | elapsed:   12.7s finished\n"
     ]
    }
   ],
   "source": [
    "from Feature_Analysis.EdgeUtils import get_top_n_features\n",
    "#Get sorted indices of most important features\n",
    "print sum(sum(p_uncorrected > 0.95))\n",
    "num_edges = netmats.shape[1]\n",
    "print num_edges\n",
    "top_indices, scores = get_top_n_features(p_corrected, num_edges)\n",
    "features = netmats[:, top_indices]\n",
    "feature_nums = [10, 25,50, 100, 250, 500, 750, 1000, 2500, 5000, 7500, 10000, 15000, num_edges ]\n",
    "#num_scores = predict_var_num_features(features, metadata, feature_nums)\n",
    "rs = predict_var_num_features(features, metadata, [250, 750])\n"
   ]
  },
  {
   "cell_type": "code",
   "execution_count": 101,
   "metadata": {
    "collapsed": false
   },
   "outputs": [
    {
     "name": "stdout",
     "output_type": "stream",
     "text": [
      "{100: 0.46000000000000002, 1000: 0.63, 7500: 0.68000000000000005, 10: 0.42999999999999999, 2500: 0.68000000000000005, 750: 0.60999999999999999, 10000: 0.66000000000000003, 5000: 0.65000000000000002, 50: 0.42999999999999999, 500: 0.48999999999999999, 1750: 0.64000000000000001, 15000: 0.71999999999999997, 25: 0.46999999999999997, 22650: 0.66000000000000003}\n"
     ]
    }
   ],
   "source": [
    "print rnum_scores\n",
    "rkeys = sorted(rnum_scores.keys())\n",
    "rscores = [rnum_scores[key] for key in rkeys]"
   ]
  },
  {
   "cell_type": "code",
   "execution_count": 102,
   "metadata": {
    "collapsed": false
   },
   "outputs": [
    {
     "name": "stdout",
     "output_type": "stream",
     "text": [
      "{100: 0.55000000000000004, 1000: 0.76000000000000001, 7500: 0.87, 10: 0.46000000000000002, 2500: 0.84999999999999998, 750: 0.72999999999999998, 10000: 0.85999999999999999, 5000: 0.85999999999999999, 50: 0.51000000000000001, 500: 0.68999999999999995, 1750: 0.77000000000000002, 15000: 0.83999999999999997, 25: 0.47999999999999998, 22650: 0.84999999999999998}\n"
     ]
    }
   ],
   "source": [
    "print fnum_scores\n",
    "fkeys = sorted(rnum_scores.keys())\n",
    "fscores = [fnum_scores[key] for key in fkeys]"
   ]
  },
  {
   "cell_type": "code",
   "execution_count": 111,
   "metadata": {
    "collapsed": false
   },
   "outputs": [
    {
     "data": {
      "image/png": "[encoded data removed]",
      "text/plain": [
       "<matplotlib.figure.Figure at 0x7f95701f8f90>"
      ]
     },
     "metadata": {},
     "output_type": "display_data"
    }
   ],
   "source": [
    "%matplotlib inline\n",
    "import matplotlib.pyplot as plt\n",
    "plt.plot(rkeys, rscores, label=\"Random\")\n",
    "plt.plot(fkeys, fscores, label=\"HCP 100\")\n",
    "plt.xscale(\"log\")\n",
    "plt.xlabel(\"Number of Edges\")\n",
    "plt.ylabel(\"Accuracy\")\n",
    "plt.title(\"Accuracy vs Number of Edges\")\n",
    "plt.legend(loc=2)\n",
    "plt.show()\n"
   ]
  }
 ],
 "metadata": {
  "kernelspec": {
   "display_name": "Python 2",
   "language": "python",
   "name": "python2"
  },
  "language_info": {
   "codemirror_mode": {
    "name": "ipython",
    "version": 2
   },
   "file_extension": ".py",
   "mimetype": "text/x-python",
   "name": "python",
   "nbconvert_exporter": "python",
   "pygments_lexer": "ipython2",
   "version": "2.7.11+"
  }
 },
 "nbformat": 4,
 "nbformat_minor": 0
}
